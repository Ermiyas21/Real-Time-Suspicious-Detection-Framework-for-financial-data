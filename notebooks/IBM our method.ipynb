{
 "cells": [
  {
   "cell_type": "code",
   "execution_count": 1,
   "metadata": {},
   "outputs": [],
   "source": [
    "import pandas as pd\n",
    "import numpy as np"
   ]
  },
  {
   "cell_type": "code",
   "execution_count": 64,
   "metadata": {},
   "outputs": [],
   "source": [
    "df = pd.read_csv('../data/HI-Small_Trans.csv')"
   ]
  },
  {
   "cell_type": "code",
   "execution_count": 65,
   "metadata": {},
   "outputs": [
    {
     "name": "stdout",
     "output_type": "stream",
     "text": [
      "0    5073168\n",
      "1       5177\n",
      "Name: Is Laundering, dtype: int64\n",
      "0    0.998981\n",
      "1    0.001019\n",
      "Name: Is Laundering, dtype: float64\n"
     ]
    }
   ],
   "source": [
    "print(df['Is Laundering'].value_counts())\n",
    "print(df['Is Laundering'].value_counts(normalize=True))"
   ]
  },
  {
   "cell_type": "code",
   "execution_count": 66,
   "metadata": {},
   "outputs": [],
   "source": [
    "# randomly select 75000 rows\n",
    "# df = df.sample(n=75000, random_state=1)"
   ]
  },
  {
   "cell_type": "code",
   "execution_count": 67,
   "metadata": {},
   "outputs": [
    {
     "name": "stdout",
     "output_type": "stream",
     "text": [
      "0    5073168\n",
      "1       5177\n",
      "Name: Is Laundering, dtype: int64\n",
      "0    0.998981\n",
      "1    0.001019\n",
      "Name: Is Laundering, dtype: float64\n"
     ]
    }
   ],
   "source": [
    "print(df['Is Laundering'].value_counts())\n",
    "print(df['Is Laundering'].value_counts(normalize=True))"
   ]
  },
  {
   "cell_type": "markdown",
   "metadata": {},
   "source": [
    "# Preprocess and Feature Engineering"
   ]
  },
  {
   "cell_type": "code",
   "execution_count": 68,
   "metadata": {},
   "outputs": [],
   "source": [
    "X = df.drop(['Is Laundering'], axis=1)\n",
    "y = df['Is Laundering']\n",
    "\n",
    "from imblearn.under_sampling import RandomUnderSampler\n",
    "\n",
    "sampling_strategy = 0.05\n",
    "\n",
    "ros = RandomUnderSampler(sampling_strategy=sampling_strategy)\n",
    "\n",
    "X_resampled, y_resampled = ros.fit_resample(X, y)\n",
    "\n",
    "df_resampled = pd.concat([X_resampled, y_resampled], axis=1)\n",
    "df = df_resampled"
   ]
  },
  {
   "cell_type": "code",
   "execution_count": 69,
   "metadata": {},
   "outputs": [
    {
     "data": {
      "text/plain": [
       "(5078345, 10)"
      ]
     },
     "execution_count": 69,
     "metadata": {},
     "output_type": "execute_result"
    }
   ],
   "source": [
    "X.shape"
   ]
  },
  {
   "cell_type": "code",
   "execution_count": 70,
   "metadata": {},
   "outputs": [
    {
     "data": {
      "text/plain": [
       "0    103540\n",
       "1      5177\n",
       "Name: Is Laundering, dtype: int64"
      ]
     },
     "execution_count": 70,
     "metadata": {},
     "output_type": "execute_result"
    }
   ],
   "source": [
    "y_resampled.value_counts()"
   ]
  },
  {
   "cell_type": "code",
   "execution_count": 71,
   "metadata": {},
   "outputs": [],
   "source": [
    "df['day'] = pd.to_datetime(df['Timestamp']).dt.day\n",
    "df['month'] = pd.to_datetime(df['Timestamp']).dt.month\n",
    "df['year'] = pd.to_datetime(df['Timestamp']).dt.year\n",
    "df['is_weekend'] = pd.to_datetime(df['Timestamp']).dt.dayofweek.apply(lambda x: 1 if x > 4 else 0)\n",
    "df['day_of_week'] = pd.to_datetime(df['Timestamp']).dt.dayofweek\n",
    "df['quarter'] = pd.to_datetime(df['Timestamp']).dt.quarter"
   ]
  },
  {
   "cell_type": "code",
   "execution_count": 72,
   "metadata": {},
   "outputs": [],
   "source": [
    "import numpy as np\n",
    "\n",
    "df['log_amount_received'] = df['Amount Received'].apply(lambda x: np.log(x))\n",
    "df['log_amount_paid'] = df['Amount Paid'].apply(lambda x: np.log(x))\n",
    "\n",
    "from sklearn.preprocessing import MinMaxScaler\n",
    "\n",
    "scaler = MinMaxScaler()\n",
    "df['scaled_amount_received'] = scaler.fit_transform(df['Amount Received'].values.reshape(-1,1))\n",
    "df['scaled_amount_paid'] = scaler.fit_transform(df['Amount Paid'].values.reshape(-1,1))"
   ]
  },
  {
   "cell_type": "code",
   "execution_count": 73,
   "metadata": {},
   "outputs": [
    {
     "data": {
      "text/html": [
       "<div>\n",
       "<style scoped>\n",
       "    .dataframe tbody tr th:only-of-type {\n",
       "        vertical-align: middle;\n",
       "    }\n",
       "\n",
       "    .dataframe tbody tr th {\n",
       "        vertical-align: top;\n",
       "    }\n",
       "\n",
       "    .dataframe thead th {\n",
       "        text-align: right;\n",
       "    }\n",
       "</style>\n",
       "<table border=\"1\" class=\"dataframe\">\n",
       "  <thead>\n",
       "    <tr style=\"text-align: right;\">\n",
       "      <th></th>\n",
       "      <th>Timestamp</th>\n",
       "      <th>From Bank</th>\n",
       "      <th>Account</th>\n",
       "      <th>To Bank</th>\n",
       "      <th>Account.1</th>\n",
       "      <th>Amount Received</th>\n",
       "      <th>Receiving Currency</th>\n",
       "      <th>Amount Paid</th>\n",
       "      <th>Payment Currency</th>\n",
       "      <th>Payment Format</th>\n",
       "      <th>...</th>\n",
       "      <th>day</th>\n",
       "      <th>month</th>\n",
       "      <th>year</th>\n",
       "      <th>is_weekend</th>\n",
       "      <th>day_of_week</th>\n",
       "      <th>quarter</th>\n",
       "      <th>log_amount_received</th>\n",
       "      <th>log_amount_paid</th>\n",
       "      <th>scaled_amount_received</th>\n",
       "      <th>scaled_amount_paid</th>\n",
       "    </tr>\n",
       "  </thead>\n",
       "  <tbody>\n",
       "    <tr>\n",
       "      <th>2268209</th>\n",
       "      <td>2022/09/04 21:39</td>\n",
       "      <td>26</td>\n",
       "      <td>800092250</td>\n",
       "      <td>220572</td>\n",
       "      <td>8085DDC30</td>\n",
       "      <td>75.37</td>\n",
       "      <td>UK Pound</td>\n",
       "      <td>75.37</td>\n",
       "      <td>UK Pound</td>\n",
       "      <td>Cheque</td>\n",
       "      <td>...</td>\n",
       "      <td>4</td>\n",
       "      <td>9</td>\n",
       "      <td>2022</td>\n",
       "      <td>1</td>\n",
       "      <td>6</td>\n",
       "      <td>3</td>\n",
       "      <td>4.322409</td>\n",
       "      <td>4.322409</td>\n",
       "      <td>1.203925e-10</td>\n",
       "      <td>1.203925e-10</td>\n",
       "    </tr>\n",
       "    <tr>\n",
       "      <th>2112305</th>\n",
       "      <td>2022/09/04 02:47</td>\n",
       "      <td>795</td>\n",
       "      <td>80077E130</td>\n",
       "      <td>1412</td>\n",
       "      <td>801009AF0</td>\n",
       "      <td>233.38</td>\n",
       "      <td>US Dollar</td>\n",
       "      <td>233.38</td>\n",
       "      <td>US Dollar</td>\n",
       "      <td>ACH</td>\n",
       "      <td>...</td>\n",
       "      <td>4</td>\n",
       "      <td>9</td>\n",
       "      <td>2022</td>\n",
       "      <td>1</td>\n",
       "      <td>6</td>\n",
       "      <td>3</td>\n",
       "      <td>5.452668</td>\n",
       "      <td>5.452668</td>\n",
       "      <td>3.727904e-10</td>\n",
       "      <td>3.727904e-10</td>\n",
       "    </tr>\n",
       "    <tr>\n",
       "      <th>303959</th>\n",
       "      <td>2022/09/01 00:18</td>\n",
       "      <td>143598</td>\n",
       "      <td>8103528A0</td>\n",
       "      <td>143598</td>\n",
       "      <td>8103528A0</td>\n",
       "      <td>9670.93</td>\n",
       "      <td>Shekel</td>\n",
       "      <td>9670.93</td>\n",
       "      <td>Shekel</td>\n",
       "      <td>Reinvestment</td>\n",
       "      <td>...</td>\n",
       "      <td>1</td>\n",
       "      <td>9</td>\n",
       "      <td>2022</td>\n",
       "      <td>0</td>\n",
       "      <td>3</td>\n",
       "      <td>3</td>\n",
       "      <td>9.176880</td>\n",
       "      <td>9.176880</td>\n",
       "      <td>1.544789e-08</td>\n",
       "      <td>1.544789e-08</td>\n",
       "    </tr>\n",
       "    <tr>\n",
       "      <th>2754270</th>\n",
       "      <td>2022/09/05 23:19</td>\n",
       "      <td>9417</td>\n",
       "      <td>80391F6D0</td>\n",
       "      <td>3</td>\n",
       "      <td>80790CA30</td>\n",
       "      <td>292.05</td>\n",
       "      <td>Yuan</td>\n",
       "      <td>292.05</td>\n",
       "      <td>Yuan</td>\n",
       "      <td>Cheque</td>\n",
       "      <td>...</td>\n",
       "      <td>5</td>\n",
       "      <td>9</td>\n",
       "      <td>2022</td>\n",
       "      <td>0</td>\n",
       "      <td>0</td>\n",
       "      <td>3</td>\n",
       "      <td>5.676925</td>\n",
       "      <td>5.676925</td>\n",
       "      <td>4.665071e-10</td>\n",
       "      <td>4.665071e-10</td>\n",
       "    </tr>\n",
       "    <tr>\n",
       "      <th>928377</th>\n",
       "      <td>2022/09/01 18:03</td>\n",
       "      <td>70</td>\n",
       "      <td>100428930</td>\n",
       "      <td>235551</td>\n",
       "      <td>80D908710</td>\n",
       "      <td>24739.44</td>\n",
       "      <td>Brazil Real</td>\n",
       "      <td>24739.44</td>\n",
       "      <td>Brazil Real</td>\n",
       "      <td>Cheque</td>\n",
       "      <td>...</td>\n",
       "      <td>1</td>\n",
       "      <td>9</td>\n",
       "      <td>2022</td>\n",
       "      <td>0</td>\n",
       "      <td>3</td>\n",
       "      <td>3</td>\n",
       "      <td>10.116154</td>\n",
       "      <td>10.116154</td>\n",
       "      <td>3.951763e-08</td>\n",
       "      <td>3.951763e-08</td>\n",
       "    </tr>\n",
       "  </tbody>\n",
       "</table>\n",
       "<p>5 rows × 21 columns</p>\n",
       "</div>"
      ],
      "text/plain": [
       "                Timestamp  From Bank    Account  To Bank  Account.1  \\\n",
       "2268209  2022/09/04 21:39         26  800092250   220572  8085DDC30   \n",
       "2112305  2022/09/04 02:47        795  80077E130     1412  801009AF0   \n",
       "303959   2022/09/01 00:18     143598  8103528A0   143598  8103528A0   \n",
       "2754270  2022/09/05 23:19       9417  80391F6D0        3  80790CA30   \n",
       "928377   2022/09/01 18:03         70  100428930   235551  80D908710   \n",
       "\n",
       "         Amount Received Receiving Currency  Amount Paid Payment Currency  \\\n",
       "2268209            75.37           UK Pound        75.37         UK Pound   \n",
       "2112305           233.38          US Dollar       233.38        US Dollar   \n",
       "303959           9670.93             Shekel      9670.93           Shekel   \n",
       "2754270           292.05               Yuan       292.05             Yuan   \n",
       "928377          24739.44        Brazil Real     24739.44      Brazil Real   \n",
       "\n",
       "        Payment Format  ...  day  month  year  is_weekend  day_of_week  \\\n",
       "2268209         Cheque  ...    4      9  2022           1            6   \n",
       "2112305            ACH  ...    4      9  2022           1            6   \n",
       "303959    Reinvestment  ...    1      9  2022           0            3   \n",
       "2754270         Cheque  ...    5      9  2022           0            0   \n",
       "928377          Cheque  ...    1      9  2022           0            3   \n",
       "\n",
       "         quarter  log_amount_received  log_amount_paid  \\\n",
       "2268209        3             4.322409         4.322409   \n",
       "2112305        3             5.452668         5.452668   \n",
       "303959         3             9.176880         9.176880   \n",
       "2754270        3             5.676925         5.676925   \n",
       "928377         3            10.116154        10.116154   \n",
       "\n",
       "         scaled_amount_received  scaled_amount_paid  \n",
       "2268209            1.203925e-10        1.203925e-10  \n",
       "2112305            3.727904e-10        3.727904e-10  \n",
       "303959             1.544789e-08        1.544789e-08  \n",
       "2754270            4.665071e-10        4.665071e-10  \n",
       "928377             3.951763e-08        3.951763e-08  \n",
       "\n",
       "[5 rows x 21 columns]"
      ]
     },
     "execution_count": 73,
     "metadata": {},
     "output_type": "execute_result"
    }
   ],
   "source": [
    "df.head()"
   ]
  },
  {
   "cell_type": "code",
   "execution_count": 74,
   "metadata": {},
   "outputs": [
    {
     "data": {
      "text/plain": [
       "Index(['Timestamp', 'From Bank', 'Account', 'To Bank', 'Account.1',\n",
       "       'Amount Received', 'Receiving Currency', 'Amount Paid',\n",
       "       'Payment Currency', 'Payment Format', 'Is Laundering', 'day', 'month',\n",
       "       'year', 'is_weekend', 'day_of_week', 'quarter', 'log_amount_received',\n",
       "       'log_amount_paid', 'scaled_amount_received', 'scaled_amount_paid'],\n",
       "      dtype='object')"
      ]
     },
     "execution_count": 74,
     "metadata": {},
     "output_type": "execute_result"
    }
   ],
   "source": [
    "df.columns"
   ]
  },
  {
   "cell_type": "code",
   "execution_count": null,
   "metadata": {},
   "outputs": [],
   "source": []
  },
  {
   "cell_type": "code",
   "execution_count": 75,
   "metadata": {},
   "outputs": [],
   "source": [
    "df['daily_tx_count_of_Account'] = df.groupby(['Account', 'day', 'month'])['Amount Paid'].transform('count')\n",
    "df['daily_tx_count_of_Account.1'] = df.groupby(['Account.1', 'day', 'month'])['Amount Paid'].transform('count')\n",
    "\n",
    "df['weekly_tx_count_of_Account'] = df.groupby(['Account', 'day_of_week', 'month'])['Amount Paid'].transform('count')\n",
    "df['weekly_tx_count_of_Account.1'] = df.groupby(['Account.1', 'day_of_week', 'month'])['Amount Paid'].transform('count')\n",
    "\n",
    "df['monthly_tx_count_of_Account'] = df.groupby(['Account', 'month'])['Amount Paid'].transform('count')\n",
    "df['monthly_tx_count_of_Account.1'] = df.groupby(['Account.1', 'month'])['Amount Paid'].transform('count')"
   ]
  },
  {
   "cell_type": "code",
   "execution_count": 76,
   "metadata": {},
   "outputs": [],
   "source": [
    "df['daily_tx_amount_of_Account'] = df.groupby(['Account', 'day', 'month'])['Amount Paid'].transform('sum')\n",
    "df['daily_tx_amount_of_Account.1'] = df.groupby(['Account.1', 'day', 'month'])['Amount Paid'].transform('sum')\n",
    "\n",
    "df['weekly_tx_amount_of_Account'] = df.groupby(['Account', 'day_of_week', 'month'])['Amount Paid'].transform('sum')\n",
    "df['weekly_tx_amount_of_Account.1'] = df.groupby(['Account.1', 'day_of_week', 'month'])['Amount Paid'].transform('sum')\n",
    "\n",
    "df['monthly_tx_amount_of_Account'] = df.groupby(['Account', 'month'])['Amount Paid'].transform('sum')\n",
    "df['monthly_tx_amount_of_Account.1'] = df.groupby(['Account.1', 'month'])['Amount Paid'].transform('sum')"
   ]
  },
  {
   "cell_type": "code",
   "execution_count": 77,
   "metadata": {},
   "outputs": [],
   "source": [
    "df['scaled_daily_tx_amount_of_Account'] = MinMaxScaler().fit_transform(df['daily_tx_amount_of_Account'].values.reshape(-1,1))\n",
    "df['scaled_daily_tx_amount_of_Account.1'] = MinMaxScaler().fit_transform(df['daily_tx_amount_of_Account.1'].values.reshape(-1,1))\n",
    "\n",
    "df['scaled_weekly_tx_amount_of_Account'] = MinMaxScaler().fit_transform(df['weekly_tx_amount_of_Account'].values.reshape(-1,1))\n",
    "df['scaled_weekly_tx_amount_of_Account.1'] = MinMaxScaler().fit_transform(df['weekly_tx_amount_of_Account.1'].values.reshape(-1,1))\n",
    "\n",
    "df['scaled_monthly_tx_amount_of_Account'] = MinMaxScaler().fit_transform(df['monthly_tx_amount_of_Account'].values.reshape(-1,1))\n",
    "df['scaled_monthly_tx_amount_of_Account.1'] = MinMaxScaler().fit_transform(df['monthly_tx_amount_of_Account.1'].values.reshape(-1,1))"
   ]
  },
  {
   "cell_type": "code",
   "execution_count": 78,
   "metadata": {},
   "outputs": [
    {
     "data": {
      "text/plain": [
       "Index(['Timestamp', 'From Bank', 'Account', 'To Bank', 'Account.1',\n",
       "       'Amount Received', 'Receiving Currency', 'Amount Paid',\n",
       "       'Payment Currency', 'Payment Format', 'Is Laundering', 'day', 'month',\n",
       "       'year', 'is_weekend', 'day_of_week', 'quarter', 'log_amount_received',\n",
       "       'log_amount_paid', 'scaled_amount_received', 'scaled_amount_paid',\n",
       "       'daily_tx_count_of_Account', 'daily_tx_count_of_Account.1',\n",
       "       'weekly_tx_count_of_Account', 'weekly_tx_count_of_Account.1',\n",
       "       'monthly_tx_count_of_Account', 'monthly_tx_count_of_Account.1',\n",
       "       'daily_tx_amount_of_Account', 'daily_tx_amount_of_Account.1',\n",
       "       'weekly_tx_amount_of_Account', 'weekly_tx_amount_of_Account.1',\n",
       "       'monthly_tx_amount_of_Account', 'monthly_tx_amount_of_Account.1',\n",
       "       'scaled_daily_tx_amount_of_Account',\n",
       "       'scaled_daily_tx_amount_of_Account.1',\n",
       "       'scaled_weekly_tx_amount_of_Account',\n",
       "       'scaled_weekly_tx_amount_of_Account.1',\n",
       "       'scaled_monthly_tx_amount_of_Account',\n",
       "       'scaled_monthly_tx_amount_of_Account.1'],\n",
       "      dtype='object')"
      ]
     },
     "execution_count": 78,
     "metadata": {},
     "output_type": "execute_result"
    }
   ],
   "source": [
    "df.columns"
   ]
  },
  {
   "cell_type": "code",
   "execution_count": 79,
   "metadata": {},
   "outputs": [],
   "source": [
    "X = df[['day', 'month', 'year', 'is_weekend', 'day_of_week', 'quarter', 'log_amount_received', 'log_amount_paid', 'scaled_amount_received', 'scaled_amount_paid',\n",
    "        'daily_tx_count_of_Account', 'daily_tx_count_of_Account.1', 'weekly_tx_count_of_Account', 'weekly_tx_count_of_Account.1', 'monthly_tx_count_of_Account', \n",
    "        'monthly_tx_count_of_Account.1', 'scaled_daily_tx_amount_of_Account', 'scaled_daily_tx_amount_of_Account.1', 'scaled_weekly_tx_amount_of_Account',\n",
    "        'scaled_weekly_tx_amount_of_Account.1', 'scaled_monthly_tx_amount_of_Account', 'scaled_monthly_tx_amount_of_Account.1']]\n",
    "y = df['Is Laundering']"
   ]
  },
  {
   "cell_type": "code",
   "execution_count": 80,
   "metadata": {},
   "outputs": [],
   "source": [
    "columns_to_one_hot_encode = ['Receiving Currency', 'Payment Currency', 'Payment Format']\n",
    "\n",
    "\n",
    "# one hot encode the columns in the list above and store the results in a new dataframe\n",
    "dummies_df = pd.get_dummies(df[columns_to_one_hot_encode], columns=columns_to_one_hot_encode)\n",
    "X = pd.concat([X, dummies_df], axis=1)"
   ]
  },
  {
   "cell_type": "code",
   "execution_count": 81,
   "metadata": {},
   "outputs": [],
   "source": [
    "df.to_csv('../data/IBM our method.csv', index=False)"
   ]
  },
  {
   "cell_type": "code",
   "execution_count": 82,
   "metadata": {},
   "outputs": [
    {
     "data": {
      "text/plain": [
       "(59,)"
      ]
     },
     "execution_count": 82,
     "metadata": {},
     "output_type": "execute_result"
    }
   ],
   "source": [
    "columns = X.columns\n",
    "columns.shape"
   ]
  },
  {
   "cell_type": "code",
   "execution_count": null,
   "metadata": {},
   "outputs": [],
   "source": []
  },
  {
   "cell_type": "code",
   "execution_count": null,
   "metadata": {},
   "outputs": [],
   "source": []
  },
  {
   "cell_type": "markdown",
   "metadata": {},
   "source": [
    "# Model and Train"
   ]
  },
  {
   "cell_type": "code",
   "execution_count": 83,
   "metadata": {},
   "outputs": [],
   "source": [
    "import pandas as pd\n",
    "import numpy as np\n",
    "import matplotlib.pyplot as plt\n",
    "import torch\n",
    "import torch\n",
    "import torch.nn as nn\n",
    "import torch.optim as optim"
   ]
  },
  {
   "cell_type": "code",
   "execution_count": 84,
   "metadata": {},
   "outputs": [],
   "source": [
    "import torch.nn as nn\n",
    "\n",
    "class Autoencoder(nn.Module):\n",
    "    def __init__(self):\n",
    "        super(Autoencoder, self).__init__()\n",
    "\n",
    "        # Encoder\n",
    "        self.encoder = nn.Sequential(\n",
    "            nn.Linear(59, 29),  # Encode_1: 47 -> 24\n",
    "            nn.Tanh(),\n",
    "            nn.Linear(29, 14),  # Encode_2: 24 -> 12\n",
    "            nn.ReLU(),\n",
    "            nn.Linear(14, 7),  # Encode_3: 12 -> 6\n",
    "            nn.ReLU()\n",
    "        )\n",
    "        \n",
    "        # Decoder\n",
    "        self.decoder = nn.Sequential(\n",
    "            nn.Linear(7, 14),  # Decode_1: 1 -> 2\n",
    "            nn.Tanh(),\n",
    "            nn.Linear(14, 29),  # Decode_2: 2 -> 4\n",
    "            nn.ReLU(),\n",
    "            nn.Linear(29, 59),  # Decode_3: 4 -> 8\n",
    "            nn.LeakyReLU()      # Model_Output layer: Producing outputs in [0,1]\n",
    "        )\n",
    "        \n",
    "    def forward(self, x):\n",
    "        x = self.encoder(x)\n",
    "        x = self.decoder(x)\n",
    "        return x"
   ]
  },
  {
   "cell_type": "code",
   "execution_count": 85,
   "metadata": {},
   "outputs": [],
   "source": [
    "from sklearn.model_selection import train_test_split\n",
    "\n",
    "train_data, test_data, train_labels, test_labels, _, test_idx = train_test_split(X, y, X.index, test_size=0.25)\n",
    "\n",
    "# Filter training data to only include normal transactions\n",
    "normal_train_data = train_data[train_labels == 0] # Assuming 0 means normal\n",
    "\n",
    "train_tensor = torch.tensor(normal_train_data.values, dtype=torch.float32)\n",
    "test_tensor = torch.tensor(test_data.values, dtype=torch.float32)\n",
    "\n",
    "\n",
    "batch_size = 64\n",
    "train_dataset = torch.utils.data.TensorDataset(train_tensor)\n",
    "train_dataloader = torch.utils.data.DataLoader(train_dataset, batch_size=batch_size, shuffle=True)\n",
    "\n",
    "test_dataset = torch.utils.data.TensorDataset(test_tensor)\n",
    "test_dataloader = torch.utils.data.DataLoader(test_dataset, batch_size=batch_size, shuffle=False)"
   ]
  },
  {
   "cell_type": "code",
   "execution_count": 86,
   "metadata": {},
   "outputs": [],
   "source": [
    "lambda_reg = 1e-3\n",
    "\n",
    "# Model initialization\n",
    "model = Autoencoder()\n",
    "\n",
    "# Choice of loss\n",
    "loss_type = 'MSE'  # Choose between 'MSE' and 'BCE'\n",
    "if loss_type == 'MSE':\n",
    "    criterion = nn.MSELoss()  # Mean squared error loss\n",
    "else:\n",
    "    criterion = nn.BCEWithLogitsLoss()  # Binary cross-entropy loss. Use if you have a sigmoid activation in the output layer.\n",
    "\n",
    "# Optimizer\n",
    "optimizer = torch.optim.Adam(model.parameters(), lr=0.1)\n",
    "\n",
    "# Early stopping setup\n",
    "best_loss = float('inf')\n",
    "patience = 10\n",
    "epochs_without_improvement = 0\n",
    "\n",
    "# Training loop with early stopping\n",
    "num_epochs = 100\n",
    "\n",
    "loss_values = []\n",
    "test_loss_values = []\n",
    "reconstruction_errors = []"
   ]
  },
  {
   "cell_type": "code",
   "execution_count": 87,
   "metadata": {},
   "outputs": [
    {
     "name": "stdout",
     "output_type": "stream",
     "text": [
      "Epoch [1/100], Train Loss: 10329.6163, Test Loss: 9436.1395\n",
      "Epoch [2/100], Train Loss: 9087.2842, Test Loss: 9446.1029\n",
      "Epoch [3/100], Train Loss: 9075.3861, Test Loss: 9470.0041\n",
      "Epoch [4/100], Train Loss: 9070.4340, Test Loss: 9425.8670\n",
      "Epoch [5/100], Train Loss: 9070.8809, Test Loss: 9421.6679\n",
      "Epoch [6/100], Train Loss: 9058.3398, Test Loss: 9404.1576\n",
      "Epoch [7/100], Train Loss: 9048.0411, Test Loss: 9422.0726\n",
      "Epoch [8/100], Train Loss: 9051.5804, Test Loss: 9420.6327\n",
      "Epoch [9/100], Train Loss: 9048.9276, Test Loss: 9412.2821\n",
      "Epoch [10/100], Train Loss: 9046.8906, Test Loss: 9396.1605\n",
      "Epoch [11/100], Train Loss: 9049.7671, Test Loss: 9398.5253\n",
      "Epoch [12/100], Train Loss: 9045.6900, Test Loss: 9435.5961\n",
      "Epoch [13/100], Train Loss: 9043.2970, Test Loss: 9396.3224\n",
      "Epoch [14/100], Train Loss: 9044.5965, Test Loss: 9402.7848\n",
      "Epoch [15/100], Train Loss: 9042.6810, Test Loss: 9457.1494\n",
      "Epoch [16/100], Train Loss: 9037.5989, Test Loss: 9404.4082\n",
      "Epoch [17/100], Train Loss: 9039.2814, Test Loss: 9398.7003\n",
      "Epoch [18/100], Train Loss: 9047.6392, Test Loss: 9403.0365\n",
      "Epoch [19/100], Train Loss: 9038.9460, Test Loss: 9409.2501\n",
      "Epoch [20/100], Train Loss: 9035.4395, Test Loss: 9396.9646\n",
      "Epoch [21/100], Train Loss: 9040.0262, Test Loss: 9398.0921\n",
      "Epoch [22/100], Train Loss: 9038.9983, Test Loss: 9402.4665\n",
      "Epoch [23/100], Train Loss: 9036.6998, Test Loss: 9427.1979\n",
      "Epoch [24/100], Train Loss: 9038.1850, Test Loss: 9405.2379\n",
      "Epoch [25/100], Train Loss: 9037.2758, Test Loss: 9400.6629\n",
      "Epoch [26/100], Train Loss: 9036.2054, Test Loss: 9405.0206\n",
      "Epoch [27/100], Train Loss: 9036.1103, Test Loss: 9398.5036\n",
      "Epoch [28/100], Train Loss: 9037.1376, Test Loss: 9400.0212\n",
      "Epoch [29/100], Train Loss: 9036.6695, Test Loss: 9412.8604\n",
      "Epoch [30/100], Train Loss: 9036.9343, Test Loss: 9403.9337\n",
      "Early stopping due to no improvement in loss.\n"
     ]
    }
   ],
   "source": [
    "for epoch in range(num_epochs):\n",
    "    epoch_loss = 0.0\n",
    "    for batch in train_dataloader:\n",
    "        inputs = batch[0]\n",
    "\n",
    "        # Zero the optimizer's gradient buffer\n",
    "        optimizer.zero_grad()\n",
    "\n",
    "        # Forward pass\n",
    "        outputs = model(inputs)\n",
    "        mse_loss = criterion(outputs, inputs)\n",
    "        \n",
    "        # 3. Activity Regularizer\n",
    "        # Assuming the first layer of the encoder is model.encoder[0]\n",
    "        activity_regularizer = lambda_reg * torch.norm(model.encoder[0](inputs), 1)\n",
    "        \n",
    "        # Combining the regularized loss\n",
    "        total_loss = mse_loss + activity_regularizer\n",
    "\n",
    "        # Backward pass and optimization\n",
    "        total_loss.backward()\n",
    "        optimizer.step()\n",
    "\n",
    "        epoch_loss += total_loss.item()\n",
    "\n",
    "    epoch_loss = epoch_loss / len(train_dataloader)\n",
    "\n",
    "    # Save the loss value for plotting\n",
    "    loss_values.append(epoch_loss)\n",
    "\n",
    "\n",
    "    # Test the model\n",
    "    model.eval()\n",
    "    with torch.no_grad():\n",
    "        test_loss = 0.0\n",
    "        for batch in test_dataloader:\n",
    "            inputs = batch[0]\n",
    "            outputs = model(inputs)\n",
    "            mse_loss = criterion(outputs, inputs)\n",
    "            test_loss += mse_loss.item()\n",
    "\n",
    "            batch_errors = torch.sum((outputs - inputs) ** 2, dim=1).numpy() # Sum of squared differences for each sample\n",
    "            reconstruction_errors.extend(batch_errors)\n",
    "\n",
    "        test_loss = test_loss / len(test_dataloader)\n",
    "        test_loss_values.append(test_loss)\n",
    "\n",
    "    model.train()\n",
    "\n",
    "    print(f\"Epoch [{epoch + 1}/{num_epochs}], Train Loss: {epoch_loss:.4f}, Test Loss: {test_loss:.4f}\")\n",
    "\n",
    "\n",
    "    # Early stopping check\n",
    "    if epoch_loss + 1e-5 < best_loss:\n",
    "        best_loss = epoch_loss\n",
    "        epochs_without_improvement = 0\n",
    "    else:\n",
    "        epochs_without_improvement += 1\n",
    "\n",
    "    if epochs_without_improvement == patience:\n",
    "        print(\"Early stopping due to no improvement in loss.\")\n",
    "        break"
   ]
  },
  {
   "cell_type": "code",
   "execution_count": 88,
   "metadata": {},
   "outputs": [
    {
     "data": {
      "image/png": "[encoded data removed]",
      "text/plain": [
       "<Figure size 1200x600 with 1 Axes>"
      ]
     },
     "metadata": {},
     "output_type": "display_data"
    }
   ],
   "source": [
    "# Plotting the training and test losses\n",
    "plt.figure(figsize=(12, 6))\n",
    "plt.plot(loss_values, label=\"Train Loss\", color=\"blue\")\n",
    "plt.plot(test_loss_values, label=\"Test Loss\", color=\"red\")\n",
    "plt.xlabel(\"Epochs\")\n",
    "plt.ylabel(\"Loss\")\n",
    "plt.title(\"Training and Test Loss over Epochs\")\n",
    "plt.legend()\n",
    "plt.grid(True)\n",
    "plt.show()"
   ]
  },
  {
   "cell_type": "code",
   "execution_count": 89,
   "metadata": {},
   "outputs": [
    {
     "data": {
      "image/png": "[encoded data removed]",
      "text/plain": [
       "<Figure size 1200x600 with 1 Axes>"
      ]
     },
     "metadata": {},
     "output_type": "display_data"
    }
   ],
   "source": [
    "# sort and plot the reconstruction errors\n",
    "reconstruction_errors.sort()\n",
    "plt.figure(figsize=(12, 6))\n",
    "plt.plot(reconstruction_errors)\n",
    "plt.xlabel(\"Sample Index\")\n",
    "plt.ylabel(\"Reconstruction Error\")\n",
    "plt.title(\"Reconstruction Error for Each Sample\")\n",
    "plt.grid(True)"
   ]
  },
  {
   "cell_type": "code",
   "execution_count": null,
   "metadata": {},
   "outputs": [],
   "source": []
  },
  {
   "cell_type": "code",
   "execution_count": null,
   "metadata": {},
   "outputs": [],
   "source": []
  },
  {
   "cell_type": "code",
   "execution_count": 90,
   "metadata": {},
   "outputs": [],
   "source": [
    "from sklearn.metrics import f1_score, precision_score, recall_score, accuracy_score, roc_auc_score, confusion_matrix, precision_recall_curve, roc_curve\n",
    "\n",
    "# Reconstruct the test data\n",
    "with torch.no_grad():\n",
    "    reconstructed_test = model(test_tensor).numpy()"
   ]
  },
  {
   "cell_type": "code",
   "execution_count": 91,
   "metadata": {},
   "outputs": [],
   "source": [
    "# Calculate reconstruction error\n",
    "reconstruction_errors = np.mean(np.power(test_data - reconstructed_test, 2), axis=1)\n",
    "\n",
    "# Choose a threshold based on domain knowledge, the distribution of reconstruction errors, or via a validation set.\n",
    "threshold = np.percentile(reconstruction_errors, 98)  # e.g., 99th percentile as threshold. This is a naive approach; refine based on your needs.\n",
    "\n",
    "# Convert reconstruction errors into binary labels (0 or 1)\n",
    "predicted_labels = [1 if error > threshold else 0 for error in reconstruction_errors]\n",
    "\n",
    "# Convert reconstruction errors into probabilities between 0 and 1\n",
    "predicted_probabilities = (reconstruction_errors - min(reconstruction_errors)) / (max(reconstruction_errors) - min(reconstruction_errors))\n",
    "\n",
    "# Assuming df has a 'reported' column with true labels\n",
    "true_labels = df['Is Laundering'].loc[test_data.index].values"
   ]
  },
  {
   "cell_type": "code",
   "execution_count": 92,
   "metadata": {},
   "outputs": [
    {
     "name": "stdout",
     "output_type": "stream",
     "text": [
      "F1 Score: 0.0465\n",
      "Precision: 0.0772\n",
      "Recall: 0.0333\n",
      "Accuracy: 0.9366\n",
      "ROC AUC: 0.5069\n",
      "False Positive Rate (FPR): 0.0194\n"
     ]
    }
   ],
   "source": [
    "# Calculate metrics\n",
    "f1 = f1_score(true_labels, predicted_labels)\n",
    "precision = precision_score(true_labels, predicted_labels)\n",
    "recall = recall_score(true_labels, predicted_labels)\n",
    "accuracy = accuracy_score(true_labels, predicted_labels)\n",
    "roc_auc = roc_auc_score(true_labels, predicted_labels)\n",
    "\n",
    "# Calculate FPR\n",
    "tn, fp, fn, tp = confusion_matrix(true_labels, predicted_labels).ravel()\n",
    "fpr = fp / (fp + tn)\n",
    "\n",
    "print(f'F1 Score: {f1:.4f}')\n",
    "print(f'Precision: {precision:.4f}')\n",
    "print(f'Recall: {recall:.4f}')\n",
    "print(f'Accuracy: {accuracy:.4f}')\n",
    "print(f'ROC AUC: {roc_auc:.4f}')\n",
    "print(f'False Positive Rate (FPR): {fpr:.4f}')"
   ]
  },
  {
   "cell_type": "code",
   "execution_count": 32,
   "metadata": {},
   "outputs": [
    {
     "name": "stdout",
     "output_type": "stream",
     "text": [
      "F1 Score: 0.0099\n",
      "Precision: 0.0053\n",
      "Recall: 0.0667\n",
      "Accuracy: 0.9786\n",
      "ROC AUC: 0.5234\n",
      "False Positive Rate (FPR): 0.0199\n"
     ]
    }
   ],
   "source": [
    "# Calculate metrics\n",
    "f1 = f1_score(true_labels, predicted_labels)\n",
    "precision = precision_score(true_labels, predicted_labels)\n",
    "recall = recall_score(true_labels, predicted_labels)\n",
    "accuracy = accuracy_score(true_labels, predicted_labels)\n",
    "roc_auc = roc_auc_score(true_labels, predicted_labels)\n",
    "\n",
    "# Calculate FPR\n",
    "tn, fp, fn, tp = confusion_matrix(true_labels, predicted_labels).ravel()\n",
    "fpr = fp / (fp + tn)\n",
    "\n",
    "print(f'F1 Score: {f1:.4f}')\n",
    "print(f'Precision: {precision:.4f}')\n",
    "print(f'Recall: {recall:.4f}')\n",
    "print(f'Accuracy: {accuracy:.4f}')\n",
    "print(f'ROC AUC: {roc_auc:.4f}')\n",
    "print(f'False Positive Rate (FPR): {fpr:.4f}')"
   ]
  },
  {
   "cell_type": "code",
   "execution_count": 93,
   "metadata": {},
   "outputs": [
    {
     "data": {
      "image/png": "[encoded data removed]",
      "text/plain": [
       "<Figure size 1200x600 with 2 Axes>"
      ]
     },
     "metadata": {},
     "output_type": "display_data"
    }
   ],
   "source": [
    "    # heatmap of confusion matrix\n",
    "import seaborn as sns\n",
    "\n",
    "conf_matrix = confusion_matrix(true_labels, predicted_labels)\n",
    "plt.figure(figsize=(12, 6))\n",
    "sns.heatmap(conf_matrix, annot=True, fmt='d', cmap='Blues')\n",
    "plt.title(\"Confusion Matrix\")\n",
    "plt.xlabel(\"Predicted Class\")\n",
    "plt.ylabel(\"True Class\")\n",
    "plt.show()"
   ]
  },
  {
   "cell_type": "code",
   "execution_count": 94,
   "metadata": {},
   "outputs": [
    {
     "data": {
      "image/png": "[encoded data removed]",
      "text/plain": [
       "<Figure size 640x480 with 1 Axes>"
      ]
     },
     "metadata": {},
     "output_type": "display_data"
    }
   ],
   "source": [
    "from sklearn.metrics import f1_score, precision_score, recall_score, accuracy_score, roc_auc_score, confusion_matrix, precision_recall_curve, roc_curve\n",
    "\n",
    "\n",
    "# 1. PR Curve\n",
    "precision_vals, recall_vals, _ = precision_recall_curve(true_labels, predicted_probabilities)\n",
    "plt.figure()\n",
    "plt.plot(recall_vals, precision_vals, label='PR Curve')\n",
    "plt.xlabel('Recall')\n",
    "plt.ylabel('Precision')\n",
    "plt.title('Precision-Recall Curve')\n",
    "plt.legend()\n",
    "plt.show()"
   ]
  },
  {
   "cell_type": "code",
   "execution_count": 95,
   "metadata": {},
   "outputs": [
    {
     "data": {
      "image/png": "[encoded data removed]",
      "text/plain": [
       "<Figure size 1000x500 with 1 Axes>"
      ]
     },
     "metadata": {},
     "output_type": "display_data"
    }
   ],
   "source": [
    "import numpy as np\n",
    "import matplotlib.pyplot as plt\n",
    "from sklearn.metrics import precision_score, recall_score\n",
    "\n",
    "# Assuming the other parts of your code, where you compute `predicted_probabilities` and `true_labels`, are above this\n",
    "\n",
    "# List to store precision and recall values for each threshold\n",
    "precisions = []\n",
    "recalls = []\n",
    "\n",
    "# Iterate over a range of thresholds (e.g., from 0 to 1 with a step of 0.01)\n",
    "thresholds = np.arange(0, 1.01, 0.01)  # Adjust the range and step as needed\n",
    "\n",
    "for threshold in thresholds:\n",
    "    # Calculate predicted labels for this threshold\n",
    "    predicted_labels_threshold = [1 if error > threshold else 0 for error in predicted_probabilities]\n",
    "    \n",
    "    # Avoiding a scenario where there's a perfect precision or recall which can cause \"UndefinedMetricWarning\"\n",
    "    if len(np.unique(predicted_labels_threshold)) > 1:\n",
    "        # Compute precision and recall\n",
    "        precision = precision_score(true_labels, predicted_labels_threshold)\n",
    "        recall = recall_score(true_labels, predicted_labels_threshold)\n",
    "    else:\n",
    "        precision, recall = 0, 0\n",
    "\n",
    "    precisions.append(precision)\n",
    "    recalls.append(recall)\n",
    "\n",
    "# Find the threshold where precision and recall cross\n",
    "diffs = np.array(precisions) - np.array(recalls)\n",
    "cross_points = np.where(np.diff(np.sign(diffs)))[0]  # Where the difference changes sign\n",
    "\n",
    "# Plot\n",
    "plt.figure(figsize=(10,5))\n",
    "plt.plot(thresholds, precisions, label='Precision', color='blue')\n",
    "plt.plot(thresholds, recalls, label='Recall', color='green')\n",
    "\n",
    "# If there's an intersection point, plot it\n",
    "if len(cross_points) > 0:\n",
    "    cross_threshold = thresholds[cross_points[0]]\n",
    "    plt.axvline(x=cross_threshold, color='red', linestyle='--', label=f'Intersection at {cross_threshold:.2f}')\n",
    "\n",
    "plt.xlabel('Threshold')\n",
    "plt.ylabel('Value')\n",
    "plt.title('Precision and Recall for Different Thresholds')\n",
    "plt.legend()\n",
    "plt.grid(True)\n",
    "plt.show()\n"
   ]
  },
  {
   "cell_type": "code",
   "execution_count": 96,
   "metadata": {},
   "outputs": [
    {
     "name": "stdout",
     "output_type": "stream",
     "text": [
      "\n",
      "Metrics for threshold = 0.3200\n",
      "F1 Score: 0.0710\n",
      "Precision: 0.0660\n",
      "Recall: 0.0768\n",
      "Accuracy: 0.9066\n",
      "ROC AUC: 0.5079\n",
      "False Positive Rate (FPR): 0.0529\n"
     ]
    }
   ],
   "source": [
    "if len(cross_points) > 0:\n",
    "    cross_threshold = thresholds[cross_points[0]]\n",
    "\n",
    "    # Use the cross_threshold to convert predicted_probabilities into binary labels\n",
    "    predicted_labels_cross_threshold = [1 if prob > cross_threshold else 0 for prob in predicted_probabilities]\n",
    "\n",
    "    # Calculate metrics\n",
    "    f1 = f1_score(true_labels, predicted_labels_cross_threshold)\n",
    "    precision = precision_score(true_labels, predicted_labels_cross_threshold)\n",
    "    recall = recall_score(true_labels, predicted_labels_cross_threshold)\n",
    "    accuracy = accuracy_score(true_labels, predicted_labels_cross_threshold)\n",
    "    roc_auc = roc_auc_score(true_labels, predicted_probabilities)\n",
    "\n",
    "    # Calculate FPR\n",
    "    tn, fp, fn, tp = confusion_matrix(true_labels, predicted_labels_cross_threshold).ravel()\n",
    "    fpr = fp / (fp + tn)\n",
    "\n",
    "    # Print out the metrics\n",
    "    print(f'\\nMetrics for threshold = {cross_threshold:.4f}')\n",
    "    print(f'F1 Score: {f1:.4f}')\n",
    "    print(f'Precision: {precision:.4f}')\n",
    "    print(f'Recall: {recall:.4f}')\n",
    "    print(f'Accuracy: {accuracy:.4f}')\n",
    "    print(f'ROC AUC: {roc_auc:.4f}')\n",
    "    print(f'False Positive Rate (FPR): {fpr:.4f}')"
   ]
  },
  {
   "cell_type": "code",
   "execution_count": null,
   "metadata": {},
   "outputs": [],
   "source": []
  }
 ],
 "metadata": {
  "kernelspec": {
   "display_name": "qa",
   "language": "python",
   "name": "python3"
  },
  "language_info": {
   "codemirror_mode": {
    "name": "ipython",
    "version": 3
   },
   "file_extension": ".py",
   "mimetype": "text/x-python",
   "name": "python",
   "nbconvert_exporter": "python",
   "pygments_lexer": "ipython3",
   "version": "3.8.16"
  },
  "orig_nbformat": 4
 },
 "nbformat": 4,
 "nbformat_minor": 2
}
