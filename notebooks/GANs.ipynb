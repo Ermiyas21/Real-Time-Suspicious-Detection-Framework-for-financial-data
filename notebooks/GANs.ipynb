{
  "nbformat": 4,
  "nbformat_minor": 0,
  "metadata": {
    "colab": {
      "provenance": [],
      "gpuType": "T4"
    },
    "kernelspec": {
      "name": "python3",
      "display_name": "Python 3"
    },
    "language_info": {
      "name": "python"
    },
    "accelerator": "GPU"
  },
  "cells": [
    {
      "cell_type": "code",
      "source": [
        "import pandas as pd\n",
        "import torch\n",
        "import torch.nn as nn\n",
        "import torch.optim as optim\n",
        "\n",
        "# Define the generator\n",
        "class Generator(nn.Module):\n",
        "    def __init__(self):\n",
        "        super(Generator, self).__init__()\n",
        "        self.model = nn.Sequential(\n",
        "            nn.Linear(100+1, 128), # Adjusted input dimension to 101\n",
        "            nn.LeakyReLU(0.2),\n",
        "            nn.BatchNorm1d(128),\n",
        "            nn.Linear(128, 256),\n",
        "            nn.LeakyReLU(0.2),\n",
        "            nn.BatchNorm1d(256),\n",
        "            nn.Linear(256, 512),\n",
        "            nn.LeakyReLU(0.2),\n",
        "            nn.BatchNorm1d(512),\n",
        "            nn.Linear(512, 45),  # Output 40 features, not 41\n",
        "            nn.Tanh()\n",
        "        )\n",
        "    def forward(self, x, label):\n",
        "        # print(f'Generator x shape: {x.shape}, label shape: {label.shape}')  # Debugging line\n",
        "        # Concatenate label to the noise\n",
        "        x = torch.cat([x, label], dim=1)\n",
        "        return self.model(x)\n",
        "\n",
        "# Define the discriminator\n",
        "class Discriminator(nn.Module):\n",
        "    def __init__(self):\n",
        "        super(Discriminator, self).__init__()\n",
        "        self.model = nn.Sequential(\n",
        "            nn.Linear(46, 512),  # Corrected input dimension\n",
        "            nn.LeakyReLU(0.2),\n",
        "            nn.Linear(512, 256),\n",
        "            nn.LeakyReLU(0.2),\n",
        "            nn.Linear(256, 128),\n",
        "            nn.LeakyReLU(0.2),\n",
        "            nn.Linear(128, 1),\n",
        "            nn.Sigmoid()\n",
        "        )\n",
        "\n",
        "    def forward(self, x, label):\n",
        "        # print(f'Discriminator x shape: {x.shape}, label shape: {label.shape}')  # Debugging line\n",
        "        # Concatenate label to the features\n",
        "        x = torch.cat([x, label], dim=1)\n",
        "        # print(f'Concatenated shape: {x.shape}')  # Add this line for debugging\n",
        "        return self.model(x)\n",
        "\n",
        "\n",
        "# Instantiate models and optimizers\n",
        "generator = Generator()\n",
        "discriminator = Discriminator()\n",
        "\n",
        "# Loss function\n",
        "criterion = nn.BCELoss()\n",
        "\n",
        "# Optimizers\n",
        "optimizer_G = optim.Adam(generator.parameters(), lr=0.0002, betas=(0.5, 0.999))\n",
        "optimizer_D = optim.Adam(discriminator.parameters(), lr=0.0002, betas=(0.5, 0.999))\n",
        "\n",
        "# Rest of the training loop will be similar to typical PyTorch training loops\n"
      ],
      "metadata": {
        "id": "E6WDa6abGAky"
      },
      "execution_count": 42,
      "outputs": []
    },
    {
      "cell_type": "code",
      "source": [
        "data = pd.read_csv('/content/custom_preprocess_v3.csv')"
      ],
      "metadata": {
        "id": "rn3xBUtMMP-L"
      },
      "execution_count": 43,
      "outputs": []
    },
    {
      "cell_type": "code",
      "source": [
        "data.columns"
      ],
      "metadata": {
        "colab": {
          "base_uri": "https://localhost:8080/"
        },
        "id": "qB9xOxaDhzh6",
        "outputId": "b4aab236-1d64-4fbf-d1f8-af09aafbc333"
      },
      "execution_count": 44,
      "outputs": [
        {
          "output_type": "execute_result",
          "data": {
            "text/plain": [
              "Index(['amount', 'createdAt', 'recipient_accountNumber', 'recipient_full_name',\n",
              "       'sender_full_name', 'reviewed', 'reported', 'day', 'month', 'year',\n",
              "       'weekofyear', 'is_weekend', 'day_of_week', 'quarter',\n",
              "       'daily_tx_count_of_recipient', 'daily_tx_count_of_sender',\n",
              "       'daily_tx_count_of_recipient_accNumber', 'weekly_tx_count_of_recipient',\n",
              "       'weekly_tx_count_of_sender', 'weekly_tx_count_of_recipient_accNumber',\n",
              "       'monthly_tx_count_of_recipient', 'monthly_tx_count_of_sender',\n",
              "       'monthly_tx_count_of_recipient_accNumber', 'log_amount',\n",
              "       'scaled_amount', 'recipient_acc_per_recipient_name',\n",
              "       'sender_per_recipient_name', 'weekly_tx_amount_of_recipient',\n",
              "       'weekly_tx_amount_of_sender', 'weekly_tx_amount_of_recipient_accNumber',\n",
              "       'monthly_tx_amount_of_recipient', 'monthly_tx_amount_of_sender',\n",
              "       'monthly_tx_amount_of_recipient_accNumber',\n",
              "       'daily_tx_amount_of_recipient', 'daily_tx_amount_of_sender',\n",
              "       'daily_tx_amount_of_recipient_accNumber',\n",
              "       'weekly_average_tx_amount_of_recipient',\n",
              "       'weekly_average_tx_amount_of_sender',\n",
              "       'weekly_average_tx_amount_of_recipient_accNumber',\n",
              "       'monthly_average_tx_amount_of_recipient',\n",
              "       'monthly_average_tx_amount_of_sender',\n",
              "       'monthly_average_tx_amount_of_recipient_accNumber',\n",
              "       'daily_average_tx_amount_of_recipient',\n",
              "       'daily_average_tx_amount_of_sender',\n",
              "       'daily_average_tx_amount_of_recipient_accNumber',\n",
              "       'weekly_average_tx_count_of_recipient',\n",
              "       'weekly_average_tx_count_of_sender',\n",
              "       'weekly_average_tx_count_of_recipient_accNumber',\n",
              "       'monthly_average_tx_count_of_recipient',\n",
              "       'monthly_average_tx_count_of_sender',\n",
              "       'monthly_average_tx_count_of_recipient_accNumber',\n",
              "       'daily_average_tx_count_of_recipient',\n",
              "       'daily_average_tx_count_of_sender',\n",
              "       'daily_average_tx_count_of_recipient_accNumber'],\n",
              "      dtype='object')"
            ]
          },
          "metadata": {},
          "execution_count": 44
        }
      ]
    },
    {
      "cell_type": "code",
      "source": [
        "usable_columns = [ 'amount', 'day', 'month', 'year', 'weekofyear', 'is_weekend', 'day_of_week', 'quarter', 'daily_tx_count_of_recipient', 'daily_tx_count_of_sender',\n",
        "    'daily_tx_count_of_recipient_accNumber', 'weekly_tx_count_of_recipient', 'weekly_tx_count_of_sender', 'weekly_tx_count_of_recipient_accNumber',\n",
        "    'monthly_tx_count_of_recipient', 'monthly_tx_count_of_sender', 'monthly_tx_count_of_recipient_accNumber','recipient_acc_per_recipient_name',\n",
        "    'sender_per_recipient_name', 'weekly_tx_amount_of_recipient', 'weekly_tx_amount_of_sender', 'weekly_tx_amount_of_recipient_accNumber',\n",
        "    'monthly_tx_amount_of_recipient', 'monthly_tx_amount_of_sender', 'monthly_tx_amount_of_recipient_accNumber','daily_tx_amount_of_recipient',\n",
        "    'daily_tx_amount_of_sender', 'daily_tx_amount_of_recipient_accNumber', 'weekly_average_tx_amount_of_recipient', 'weekly_average_tx_amount_of_sender',\n",
        "    'weekly_average_tx_amount_of_recipient_accNumber', 'monthly_average_tx_amount_of_recipient', 'monthly_average_tx_amount_of_sender',\n",
        "    'monthly_average_tx_amount_of_recipient_accNumber', 'daily_average_tx_amount_of_recipient', 'daily_average_tx_amount_of_sender',\n",
        "    'daily_average_tx_amount_of_recipient_accNumber', 'weekly_average_tx_count_of_recipient', 'weekly_average_tx_count_of_sender',\n",
        "    'weekly_average_tx_count_of_recipient_accNumber', 'monthly_average_tx_count_of_recipient', 'monthly_average_tx_count_of_sender',\n",
        "    'monthly_average_tx_count_of_recipient_accNumber', 'daily_average_tx_count_of_recipient', 'daily_average_tx_count_of_sender',\n",
        "    'daily_average_tx_count_of_recipient_accNumber']\n",
        "len(usable_columns)"
      ],
      "metadata": {
        "colab": {
          "base_uri": "https://localhost:8080/"
        },
        "id": "jBfK4VYWMces",
        "outputId": "f447507e-3365-4f28-e869-df52f0ae3310"
      },
      "execution_count": 45,
      "outputs": [
        {
          "output_type": "execute_result",
          "data": {
            "text/plain": [
              "46"
            ]
          },
          "metadata": {},
          "execution_count": 45
        }
      ]
    },
    {
      "cell_type": "code",
      "source": [
        "data.dropna(inplace=True)"
      ],
      "metadata": {
        "id": "rQS9V_7vlo3_"
      },
      "execution_count": 46,
      "outputs": []
    },
    {
      "cell_type": "code",
      "source": [
        "data['reported'] = data['reported'].apply(lambda x: 1 if x else 0)"
      ],
      "metadata": {
        "id": "Fjq_V9MrDlWD"
      },
      "execution_count": 47,
      "outputs": []
    },
    {
      "cell_type": "code",
      "source": [
        "data['reported'].value_counts(normalize=True)"
      ],
      "metadata": {
        "colab": {
          "base_uri": "https://localhost:8080/"
        },
        "id": "xDdrcKMGLPyL",
        "outputId": "a0a25ee4-63af-4ee9-ba39-291dd4a87b01"
      },
      "execution_count": 48,
      "outputs": [
        {
          "output_type": "execute_result",
          "data": {
            "text/plain": [
              "0    0.981496\n",
              "1    0.018504\n",
              "Name: reported, dtype: float64"
            ]
          },
          "metadata": {},
          "execution_count": 48
        }
      ]
    },
    {
      "cell_type": "code",
      "source": [
        "data['reported'].describe()"
      ],
      "metadata": {
        "colab": {
          "base_uri": "https://localhost:8080/"
        },
        "id": "0GB_9YAwurje",
        "outputId": "9ac35c6a-03d1-40ed-99fe-73f52e860a6d"
      },
      "execution_count": 49,
      "outputs": [
        {
          "output_type": "execute_result",
          "data": {
            "text/plain": [
              "count    75443.000000\n",
              "mean         0.018504\n",
              "std          0.134766\n",
              "min          0.000000\n",
              "25%          0.000000\n",
              "50%          0.000000\n",
              "75%          0.000000\n",
              "max          1.000000\n",
              "Name: reported, dtype: float64"
            ]
          },
          "metadata": {},
          "execution_count": 49
        }
      ]
    },
    {
      "cell_type": "code",
      "source": [
        "data[usable_columns].head()"
      ],
      "metadata": {
        "colab": {
          "base_uri": "https://localhost:8080/",
          "height": 256
        },
        "id": "GIkJIiEXDa1D",
        "outputId": "17e1c8d5-3f56-418e-bc86-a279f91f4b52"
      },
      "execution_count": 50,
      "outputs": [
        {
          "output_type": "execute_result",
          "data": {
            "text/plain": [
              "     amount       day  month  year  weekofyear  is_weekend  day_of_week  \\\n",
              "0  0.000158  0.433333    1.0   0.0         1.0         0.0          0.5   \n",
              "1  0.000232  0.433333    1.0   0.0         1.0         0.0          0.5   \n",
              "2  0.000010  0.433333    1.0   0.0         1.0         0.0          0.5   \n",
              "3  0.000182  0.433333    1.0   0.0         1.0         0.0          0.5   \n",
              "4  0.000758  0.433333    1.0   0.0         1.0         0.0          0.5   \n",
              "\n",
              "   quarter  daily_tx_count_of_recipient  daily_tx_count_of_sender  ...  \\\n",
              "0      1.0                          0.0                       0.0  ...   \n",
              "1      1.0                          0.0                       0.0  ...   \n",
              "2      1.0                          0.0                       0.0  ...   \n",
              "3      1.0                          0.0                       0.0  ...   \n",
              "4      1.0                          0.0                       0.0  ...   \n",
              "\n",
              "   daily_average_tx_amount_of_recipient_accNumber  \\\n",
              "0                                        0.000158   \n",
              "1                                        0.000232   \n",
              "2                                        0.000010   \n",
              "3                                        0.000183   \n",
              "4                                        0.000759   \n",
              "\n",
              "   weekly_average_tx_count_of_recipient  weekly_average_tx_count_of_sender  \\\n",
              "0                              0.000000                           0.000000   \n",
              "1                              0.016129                           0.016129   \n",
              "2                              0.016129                           0.016129   \n",
              "3                              0.016129                           0.016129   \n",
              "4                              0.000000                           0.000000   \n",
              "\n",
              "   weekly_average_tx_count_of_recipient_accNumber  \\\n",
              "0                                        0.000000   \n",
              "1                                        0.000000   \n",
              "2                                        0.016129   \n",
              "3                                        0.016129   \n",
              "4                                        0.000000   \n",
              "\n",
              "   monthly_average_tx_count_of_recipient  monthly_average_tx_count_of_sender  \\\n",
              "0                               0.000000                            0.000000   \n",
              "1                               0.011765                            0.011765   \n",
              "2                               0.005882                            0.005882   \n",
              "3                               0.017647                            0.017647   \n",
              "4                               0.005882                            0.005882   \n",
              "\n",
              "   monthly_average_tx_count_of_recipient_accNumber  \\\n",
              "0                                         0.000000   \n",
              "1                                         0.000000   \n",
              "2                                         0.005882   \n",
              "3                                         0.017647   \n",
              "4                                         0.005882   \n",
              "\n",
              "   daily_average_tx_count_of_recipient  daily_average_tx_count_of_sender  \\\n",
              "0                                  0.0                               0.0   \n",
              "1                                  0.0                               0.0   \n",
              "2                                  0.0                               0.0   \n",
              "3                                  0.0                               0.0   \n",
              "4                                  0.0                               0.0   \n",
              "\n",
              "   daily_average_tx_count_of_recipient_accNumber  \n",
              "0                                            0.0  \n",
              "1                                            0.0  \n",
              "2                                            0.0  \n",
              "3                                            0.0  \n",
              "4                                            0.0  \n",
              "\n",
              "[5 rows x 46 columns]"
            ],
            "text/html": [
              "\n",
              "  <div id=\"df-e58bfcd3-0171-400c-bca7-136527939c4a\" class=\"colab-df-container\">\n",
              "    <div>\n",
              "<style scoped>\n",
              "    .dataframe tbody tr th:only-of-type {\n",
              "        vertical-align: middle;\n",
              "    }\n",
              "\n",
              "    .dataframe tbody tr th {\n",
              "        vertical-align: top;\n",
              "    }\n",
              "\n",
              "    .dataframe thead th {\n",
              "        text-align: right;\n",
              "    }\n",
              "</style>\n",
              "<table border=\"1\" class=\"dataframe\">\n",
              "  <thead>\n",
              "    <tr style=\"text-align: right;\">\n",
              "      <th></th>\n",
              "      <th>amount</th>\n",
              "      <th>day</th>\n",
              "      <th>month</th>\n",
              "      <th>year</th>\n",
              "      <th>weekofyear</th>\n",
              "      <th>is_weekend</th>\n",
              "      <th>day_of_week</th>\n",
              "      <th>quarter</th>\n",
              "      <th>daily_tx_count_of_recipient</th>\n",
              "      <th>daily_tx_count_of_sender</th>\n",
              "      <th>...</th>\n",
              "      <th>daily_average_tx_amount_of_recipient_accNumber</th>\n",
              "      <th>weekly_average_tx_count_of_recipient</th>\n",
              "      <th>weekly_average_tx_count_of_sender</th>\n",
              "      <th>weekly_average_tx_count_of_recipient_accNumber</th>\n",
              "      <th>monthly_average_tx_count_of_recipient</th>\n",
              "      <th>monthly_average_tx_count_of_sender</th>\n",
              "      <th>monthly_average_tx_count_of_recipient_accNumber</th>\n",
              "      <th>daily_average_tx_count_of_recipient</th>\n",
              "      <th>daily_average_tx_count_of_sender</th>\n",
              "      <th>daily_average_tx_count_of_recipient_accNumber</th>\n",
              "    </tr>\n",
              "  </thead>\n",
              "  <tbody>\n",
              "    <tr>\n",
              "      <th>0</th>\n",
              "      <td>0.000158</td>\n",
              "      <td>0.433333</td>\n",
              "      <td>1.0</td>\n",
              "      <td>0.0</td>\n",
              "      <td>1.0</td>\n",
              "      <td>0.0</td>\n",
              "      <td>0.5</td>\n",
              "      <td>1.0</td>\n",
              "      <td>0.0</td>\n",
              "      <td>0.0</td>\n",
              "      <td>...</td>\n",
              "      <td>0.000158</td>\n",
              "      <td>0.000000</td>\n",
              "      <td>0.000000</td>\n",
              "      <td>0.000000</td>\n",
              "      <td>0.000000</td>\n",
              "      <td>0.000000</td>\n",
              "      <td>0.000000</td>\n",
              "      <td>0.0</td>\n",
              "      <td>0.0</td>\n",
              "      <td>0.0</td>\n",
              "    </tr>\n",
              "    <tr>\n",
              "      <th>1</th>\n",
              "      <td>0.000232</td>\n",
              "      <td>0.433333</td>\n",
              "      <td>1.0</td>\n",
              "      <td>0.0</td>\n",
              "      <td>1.0</td>\n",
              "      <td>0.0</td>\n",
              "      <td>0.5</td>\n",
              "      <td>1.0</td>\n",
              "      <td>0.0</td>\n",
              "      <td>0.0</td>\n",
              "      <td>...</td>\n",
              "      <td>0.000232</td>\n",
              "      <td>0.016129</td>\n",
              "      <td>0.016129</td>\n",
              "      <td>0.000000</td>\n",
              "      <td>0.011765</td>\n",
              "      <td>0.011765</td>\n",
              "      <td>0.000000</td>\n",
              "      <td>0.0</td>\n",
              "      <td>0.0</td>\n",
              "      <td>0.0</td>\n",
              "    </tr>\n",
              "    <tr>\n",
              "      <th>2</th>\n",
              "      <td>0.000010</td>\n",
              "      <td>0.433333</td>\n",
              "      <td>1.0</td>\n",
              "      <td>0.0</td>\n",
              "      <td>1.0</td>\n",
              "      <td>0.0</td>\n",
              "      <td>0.5</td>\n",
              "      <td>1.0</td>\n",
              "      <td>0.0</td>\n",
              "      <td>0.0</td>\n",
              "      <td>...</td>\n",
              "      <td>0.000010</td>\n",
              "      <td>0.016129</td>\n",
              "      <td>0.016129</td>\n",
              "      <td>0.016129</td>\n",
              "      <td>0.005882</td>\n",
              "      <td>0.005882</td>\n",
              "      <td>0.005882</td>\n",
              "      <td>0.0</td>\n",
              "      <td>0.0</td>\n",
              "      <td>0.0</td>\n",
              "    </tr>\n",
              "    <tr>\n",
              "      <th>3</th>\n",
              "      <td>0.000182</td>\n",
              "      <td>0.433333</td>\n",
              "      <td>1.0</td>\n",
              "      <td>0.0</td>\n",
              "      <td>1.0</td>\n",
              "      <td>0.0</td>\n",
              "      <td>0.5</td>\n",
              "      <td>1.0</td>\n",
              "      <td>0.0</td>\n",
              "      <td>0.0</td>\n",
              "      <td>...</td>\n",
              "      <td>0.000183</td>\n",
              "      <td>0.016129</td>\n",
              "      <td>0.016129</td>\n",
              "      <td>0.016129</td>\n",
              "      <td>0.017647</td>\n",
              "      <td>0.017647</td>\n",
              "      <td>0.017647</td>\n",
              "      <td>0.0</td>\n",
              "      <td>0.0</td>\n",
              "      <td>0.0</td>\n",
              "    </tr>\n",
              "    <tr>\n",
              "      <th>4</th>\n",
              "      <td>0.000758</td>\n",
              "      <td>0.433333</td>\n",
              "      <td>1.0</td>\n",
              "      <td>0.0</td>\n",
              "      <td>1.0</td>\n",
              "      <td>0.0</td>\n",
              "      <td>0.5</td>\n",
              "      <td>1.0</td>\n",
              "      <td>0.0</td>\n",
              "      <td>0.0</td>\n",
              "      <td>...</td>\n",
              "      <td>0.000759</td>\n",
              "      <td>0.000000</td>\n",
              "      <td>0.000000</td>\n",
              "      <td>0.000000</td>\n",
              "      <td>0.005882</td>\n",
              "      <td>0.005882</td>\n",
              "      <td>0.005882</td>\n",
              "      <td>0.0</td>\n",
              "      <td>0.0</td>\n",
              "      <td>0.0</td>\n",
              "    </tr>\n",
              "  </tbody>\n",
              "</table>\n",
              "<p>5 rows × 46 columns</p>\n",
              "</div>\n",
              "    <div class=\"colab-df-buttons\">\n",
              "\n",
              "  <div class=\"colab-df-container\">\n",
              "    <button class=\"colab-df-convert\" onclick=\"convertToInteractive('df-e58bfcd3-0171-400c-bca7-136527939c4a')\"\n",
              "            title=\"Convert this dataframe to an interactive table.\"\n",
              "            style=\"display:none;\">\n",
              "\n",
              "  <svg xmlns=\"http://www.w3.org/2000/svg\" height=\"24px\" viewBox=\"0 -960 960 960\">\n",
              "    <path d=\"M120-120v-720h720v720H120Zm60-500h600v-160H180v160Zm220 220h160v-160H400v160Zm0 220h160v-160H400v160ZM180-400h160v-160H180v160Zm440 0h160v-160H620v160ZM180-180h160v-160H180v160Zm440 0h160v-160H620v160Z\"/>\n",
              "  </svg>\n",
              "    </button>\n",
              "\n",
              "  <style>\n",
              "    .colab-df-container {\n",
              "      display:flex;\n",
              "      gap: 12px;\n",
              "    }\n",
              "\n",
              "    .colab-df-convert {\n",
              "      background-color: #E8F0FE;\n",
              "      border: none;\n",
              "      border-radius: 50%;\n",
              "      cursor: pointer;\n",
              "      display: none;\n",
              "      fill: #1967D2;\n",
              "      height: 32px;\n",
              "      padding: 0 0 0 0;\n",
              "      width: 32px;\n",
              "    }\n",
              "\n",
              "    .colab-df-convert:hover {\n",
              "      background-color: #E2EBFA;\n",
              "      box-shadow: 0px 1px 2px rgba(60, 64, 67, 0.3), 0px 1px 3px 1px rgba(60, 64, 67, 0.15);\n",
              "      fill: #174EA6;\n",
              "    }\n",
              "\n",
              "    .colab-df-buttons div {\n",
              "      margin-bottom: 4px;\n",
              "    }\n",
              "\n",
              "    [theme=dark] .colab-df-convert {\n",
              "      background-color: #3B4455;\n",
              "      fill: #D2E3FC;\n",
              "    }\n",
              "\n",
              "    [theme=dark] .colab-df-convert:hover {\n",
              "      background-color: #434B5C;\n",
              "      box-shadow: 0px 1px 3px 1px rgba(0, 0, 0, 0.15);\n",
              "      filter: drop-shadow(0px 1px 2px rgba(0, 0, 0, 0.3));\n",
              "      fill: #FFFFFF;\n",
              "    }\n",
              "  </style>\n",
              "\n",
              "    <script>\n",
              "      const buttonEl =\n",
              "        document.querySelector('#df-e58bfcd3-0171-400c-bca7-136527939c4a button.colab-df-convert');\n",
              "      buttonEl.style.display =\n",
              "        google.colab.kernel.accessAllowed ? 'block' : 'none';\n",
              "\n",
              "      async function convertToInteractive(key) {\n",
              "        const element = document.querySelector('#df-e58bfcd3-0171-400c-bca7-136527939c4a');\n",
              "        const dataTable =\n",
              "          await google.colab.kernel.invokeFunction('convertToInteractive',\n",
              "                                                    [key], {});\n",
              "        if (!dataTable) return;\n",
              "\n",
              "        const docLinkHtml = 'Like what you see? Visit the ' +\n",
              "          '<a target=\"_blank\" href=https://colab.research.google.com/notebooks/data_table.ipynb>data table notebook</a>'\n",
              "          + ' to learn more about interactive tables.';\n",
              "        element.innerHTML = '';\n",
              "        dataTable['output_type'] = 'display_data';\n",
              "        await google.colab.output.renderOutput(dataTable, element);\n",
              "        const docLink = document.createElement('div');\n",
              "        docLink.innerHTML = docLinkHtml;\n",
              "        element.appendChild(docLink);\n",
              "      }\n",
              "    </script>\n",
              "  </div>\n",
              "\n",
              "\n",
              "<div id=\"df-3a43e96e-b4d6-47d9-824e-00330fff972e\">\n",
              "  <button class=\"colab-df-quickchart\" onclick=\"quickchart('df-3a43e96e-b4d6-47d9-824e-00330fff972e')\"\n",
              "            title=\"Suggest charts.\"\n",
              "            style=\"display:none;\">\n",
              "\n",
              "<svg xmlns=\"http://www.w3.org/2000/svg\" height=\"24px\"viewBox=\"0 0 24 24\"\n",
              "     width=\"24px\">\n",
              "    <g>\n",
              "        <path d=\"M19 3H5c-1.1 0-2 .9-2 2v14c0 1.1.9 2 2 2h14c1.1 0 2-.9 2-2V5c0-1.1-.9-2-2-2zM9 17H7v-7h2v7zm4 0h-2V7h2v10zm4 0h-2v-4h2v4z\"/>\n",
              "    </g>\n",
              "</svg>\n",
              "  </button>\n",
              "\n",
              "<style>\n",
              "  .colab-df-quickchart {\n",
              "      --bg-color: #E8F0FE;\n",
              "      --fill-color: #1967D2;\n",
              "      --hover-bg-color: #E2EBFA;\n",
              "      --hover-fill-color: #174EA6;\n",
              "      --disabled-fill-color: #AAA;\n",
              "      --disabled-bg-color: #DDD;\n",
              "  }\n",
              "\n",
              "  [theme=dark] .colab-df-quickchart {\n",
              "      --bg-color: #3B4455;\n",
              "      --fill-color: #D2E3FC;\n",
              "      --hover-bg-color: #434B5C;\n",
              "      --hover-fill-color: #FFFFFF;\n",
              "      --disabled-bg-color: #3B4455;\n",
              "      --disabled-fill-color: #666;\n",
              "  }\n",
              "\n",
              "  .colab-df-quickchart {\n",
              "    background-color: var(--bg-color);\n",
              "    border: none;\n",
              "    border-radius: 50%;\n",
              "    cursor: pointer;\n",
              "    display: none;\n",
              "    fill: var(--fill-color);\n",
              "    height: 32px;\n",
              "    padding: 0;\n",
              "    width: 32px;\n",
              "  }\n",
              "\n",
              "  .colab-df-quickchart:hover {\n",
              "    background-color: var(--hover-bg-color);\n",
              "    box-shadow: 0 1px 2px rgba(60, 64, 67, 0.3), 0 1px 3px 1px rgba(60, 64, 67, 0.15);\n",
              "    fill: var(--button-hover-fill-color);\n",
              "  }\n",
              "\n",
              "  .colab-df-quickchart-complete:disabled,\n",
              "  .colab-df-quickchart-complete:disabled:hover {\n",
              "    background-color: var(--disabled-bg-color);\n",
              "    fill: var(--disabled-fill-color);\n",
              "    box-shadow: none;\n",
              "  }\n",
              "\n",
              "  .colab-df-spinner {\n",
              "    border: 2px solid var(--fill-color);\n",
              "    border-color: transparent;\n",
              "    border-bottom-color: var(--fill-color);\n",
              "    animation:\n",
              "      spin 1s steps(1) infinite;\n",
              "  }\n",
              "\n",
              "  @keyframes spin {\n",
              "    0% {\n",
              "      border-color: transparent;\n",
              "      border-bottom-color: var(--fill-color);\n",
              "      border-left-color: var(--fill-color);\n",
              "    }\n",
              "    20% {\n",
              "      border-color: transparent;\n",
              "      border-left-color: var(--fill-color);\n",
              "      border-top-color: var(--fill-color);\n",
              "    }\n",
              "    30% {\n",
              "      border-color: transparent;\n",
              "      border-left-color: var(--fill-color);\n",
              "      border-top-color: var(--fill-color);\n",
              "      border-right-color: var(--fill-color);\n",
              "    }\n",
              "    40% {\n",
              "      border-color: transparent;\n",
              "      border-right-color: var(--fill-color);\n",
              "      border-top-color: var(--fill-color);\n",
              "    }\n",
              "    60% {\n",
              "      border-color: transparent;\n",
              "      border-right-color: var(--fill-color);\n",
              "    }\n",
              "    80% {\n",
              "      border-color: transparent;\n",
              "      border-right-color: var(--fill-color);\n",
              "      border-bottom-color: var(--fill-color);\n",
              "    }\n",
              "    90% {\n",
              "      border-color: transparent;\n",
              "      border-bottom-color: var(--fill-color);\n",
              "    }\n",
              "  }\n",
              "</style>\n",
              "\n",
              "  <script>\n",
              "    async function quickchart(key) {\n",
              "      const quickchartButtonEl =\n",
              "        document.querySelector('#' + key + ' button');\n",
              "      quickchartButtonEl.disabled = true;  // To prevent multiple clicks.\n",
              "      quickchartButtonEl.classList.add('colab-df-spinner');\n",
              "      try {\n",
              "        const charts = await google.colab.kernel.invokeFunction(\n",
              "            'suggestCharts', [key], {});\n",
              "      } catch (error) {\n",
              "        console.error('Error during call to suggestCharts:', error);\n",
              "      }\n",
              "      quickchartButtonEl.classList.remove('colab-df-spinner');\n",
              "      quickchartButtonEl.classList.add('colab-df-quickchart-complete');\n",
              "    }\n",
              "    (() => {\n",
              "      let quickchartButtonEl =\n",
              "        document.querySelector('#df-3a43e96e-b4d6-47d9-824e-00330fff972e button');\n",
              "      quickchartButtonEl.style.display =\n",
              "        google.colab.kernel.accessAllowed ? 'block' : 'none';\n",
              "    })();\n",
              "  </script>\n",
              "</div>\n",
              "    </div>\n",
              "  </div>\n"
            ]
          },
          "metadata": {},
          "execution_count": 50
        }
      ]
    },
    {
      "cell_type": "code",
      "source": [
        "import torch\n",
        "from torch.utils.data import DataLoader, TensorDataset\n",
        "\n",
        "# Convert DataFrame to tensor\n",
        "# data_tensor = torch.tensor(data[usable_columns].values, dtype=torch.float32)\n",
        "\n",
        "# Assuming 'reviewed' is the name of the label column\n",
        "features_columns = [col for col in usable_columns if col != 'reported']\n",
        "\n",
        "# Convert DataFrame to tensor\n",
        "features_tensor = torch.tensor(data[features_columns].values, dtype=torch.float32)\n",
        "labels_tensor = torch.tensor(data['reported'].values, dtype=torch.float32).view(-1, 1)  # Ensure labels_tensor has shape (n_samples, 1)\n",
        "\n",
        "\n",
        "# If you have separate labels, convert them to tensor as well\n",
        "# labels_tensor = data_tensor[:, -1].unsqueeze(1)  # Get the 'reviewed' column and add an extra dimension\n",
        "# features_tensor = data_tensor[:, :-1]  # Get all columns except 'reviewed'\n",
        "\n",
        "\n",
        "# Create a dataset from tensors\n",
        "dataset = TensorDataset(features_tensor, labels_tensor)  # Use this if you have labels\n",
        "# dataset = TensorDataset(data_tensor)  # Use this if you only have data without labels\n",
        "\n",
        "# Create a DataLoader\n",
        "batch_size = 64\n",
        "dataloader = DataLoader(dataset, batch_size=batch_size, shuffle=True)"
      ],
      "metadata": {
        "id": "MJv3jvWCMcba"
      },
      "execution_count": 51,
      "outputs": []
    },
    {
      "cell_type": "code",
      "source": [
        "features_tensor.shape"
      ],
      "metadata": {
        "colab": {
          "base_uri": "https://localhost:8080/"
        },
        "id": "rSZN9YHXiX9l",
        "outputId": "cd02af98-23f8-4980-d5f1-3350e82be133"
      },
      "execution_count": 52,
      "outputs": [
        {
          "output_type": "execute_result",
          "data": {
            "text/plain": [
              "torch.Size([75443, 46])"
            ]
          },
          "metadata": {},
          "execution_count": 52
        }
      ]
    },
    {
      "cell_type": "code",
      "source": [
        "labels_tensor"
      ],
      "metadata": {
        "colab": {
          "base_uri": "https://localhost:8080/"
        },
        "id": "3fW5F1PMiZdU",
        "outputId": "99d1a880-3c21-4e48-e0b1-0b6987592ac4"
      },
      "execution_count": 53,
      "outputs": [
        {
          "output_type": "execute_result",
          "data": {
            "text/plain": [
              "tensor([[0.],\n",
              "        [0.],\n",
              "        [0.],\n",
              "        ...,\n",
              "        [0.],\n",
              "        [0.],\n",
              "        [0.]])"
            ]
          },
          "metadata": {},
          "execution_count": 53
        }
      ]
    },
    {
      "cell_type": "code",
      "source": [
        "# Loss function\n",
        "criterion = nn.BCELoss()\n",
        "\n",
        "# # Define the generator\n",
        "# class Generator(nn.Module):\n",
        "#     def __init__(self):\n",
        "#         super(Generator, self).__init__()\n",
        "#         self.model = nn.Sequential(\n",
        "#             nn.Linear(100+1, 128), # Adjusted input dimension to 101\n",
        "#             nn.LeakyReLU(0.2),\n",
        "#             nn.BatchNorm1d(128),\n",
        "#             nn.Linear(128, 256),\n",
        "#             nn.LeakyReLU(0.2),\n",
        "#             nn.BatchNorm1d(256),\n",
        "#             nn.Linear(256, 512),\n",
        "#             nn.LeakyReLU(0.2),\n",
        "#             nn.BatchNorm1d(512),\n",
        "#             nn.Linear(512, 40),  # Output 40 features, not 41\n",
        "#             nn.Tanh()\n",
        "#         )\n",
        "#     def forward(self, x, label):\n",
        "#         # print(f'Generator x shape: {x.shape}, label shape: {label.shape}')  # Debugging line\n",
        "#         # Concatenate label to the noise\n",
        "#         x = torch.cat([x, label], dim=1)\n",
        "#         return self.model(x)\n",
        "\n",
        "class Generator(nn.Module):\n",
        "    def __init__(self):\n",
        "        super(Generator, self).__init__()\n",
        "        self.model = nn.Sequential(\n",
        "            nn.Linear(100+1, 256),\n",
        "            nn.LeakyReLU(0.2),\n",
        "            nn.BatchNorm1d(256),\n",
        "            nn.Linear(256, 512),\n",
        "            nn.LeakyReLU(0.2),\n",
        "            nn.BatchNorm1d(512),\n",
        "            nn.Linear(512, 256),\n",
        "            nn.LeakyReLU(0.2),\n",
        "            nn.BatchNorm1d(256),\n",
        "            nn.Linear(256, 46),\n",
        "            nn.Sigmoid()\n",
        "        )\n",
        "\n",
        "    def forward(self, x, label):\n",
        "        x = torch.cat([x, label], dim=1)\n",
        "        return self.model(x)\n",
        "\n",
        "# Modified Generator\n",
        "# class Generator(nn.Module):\n",
        "#     def __init__(self):\n",
        "#         super(Generator, self).__init__()\n",
        "#         self.model = nn.Sequential(\n",
        "#             nn.Linear(100+1, 256),\n",
        "#             nn.LeakyReLU(0.2),\n",
        "#             nn.BatchNorm1d(256),\n",
        "#             nn.Linear(256, 128),\n",
        "#             nn.LeakyReLU(0.2),\n",
        "#             nn.BatchNorm1d(128),\n",
        "#             nn.Linear(128, 46),\n",
        "#             nn.Sigmoid()\n",
        "#         )\n",
        "\n",
        "#     def forward(self, x, label):\n",
        "#         x = torch.cat([x, label], dim=1)\n",
        "#         return self.model(x)\n",
        "\n",
        "\n",
        "# class Discriminator(nn.Module):\n",
        "#     def __init__(self):\n",
        "#         super(Discriminator, self).__init__()\n",
        "#         self.model = nn.Sequential(\n",
        "#             nn.Linear(41, 512),  # Corrected input dimension\n",
        "#             nn.LeakyReLU(0.2),\n",
        "#             nn.Linear(512, 256),\n",
        "#             nn.LeakyReLU(0.2),\n",
        "#             nn.Linear(256, 128),\n",
        "#             nn.LeakyReLU(0.2),\n",
        "#             nn.Linear(128, 1),\n",
        "#             nn.Sigmoid()\n",
        "#         )\n",
        "\n",
        "#     def forward(self, x, label):\n",
        "#         # print(f'Discriminator x shape: {x.shape}, label shape: {label.shape}')  # Debugging line\n",
        "#         # Concatenate label to the features\n",
        "#         x = torch.cat([x, label], dim=1)\n",
        "#         # print(f'Concatenated shape: {x.shape}')  # Add this line for debugging\n",
        "#         return self.model(x)\n",
        "\n",
        "class Discriminator(nn.Module):\n",
        "    def __init__(self):\n",
        "        super(Discriminator, self).__init__()\n",
        "        self.model = nn.Sequential(\n",
        "            nn.Linear(47, 512),\n",
        "            nn.LeakyReLU(0.2),\n",
        "            nn.Linear(512, 256),\n",
        "            nn.LeakyReLU(0.2),\n",
        "            nn.Linear(256, 128),\n",
        "            nn.LeakyReLU(0.2),\n",
        "            nn.Linear(128, 1),\n",
        "            nn.Sigmoid()\n",
        "        )\n",
        "\n",
        "    def forward(self, x, label):\n",
        "        x = torch.cat([x, label], dim=1)\n",
        "        return self.model(x)\n",
        "\n",
        "# Modified Discriminator\n",
        "# class Discriminator(nn.Module):\n",
        "#     def __init__(self):\n",
        "#         super(Discriminator, self).__init__()\n",
        "#         self.model = nn.Sequential(\n",
        "#             nn.Linear(47, 256),\n",
        "#             nn.LeakyReLU(0.2),\n",
        "#             nn.Linear(256, 128),\n",
        "#             nn.LeakyReLU(0.2),\n",
        "#             nn.Linear(128, 1),\n",
        "#             nn.Sigmoid()\n",
        "#         )\n",
        "\n",
        "#     def forward(self, x, label):\n",
        "#         x = torch.cat([x, label], dim=1)\n",
        "#         return self.model(x)\n",
        "\n",
        "\n",
        "# Instantiate models and optimizers\n",
        "generator = Generator()\n",
        "discriminator = Discriminator()\n",
        "\n",
        "# Loss function\n",
        "criterion = nn.BCELoss()\n",
        "\n",
        "# # Optimizers\n",
        "# optimizer_G = optim.Adam(generator.parameters(), lr=0.0004, betas=(0.5, 0.999))\n",
        "# optimizer_D = optim.Adam(discriminator.parameters(), lr=0.0001, betas=(0.5, 0.999))\n",
        "\n",
        "# # Number of epochs"
      ],
      "metadata": {
        "id": "qEAMDcA3McY2"
      },
      "execution_count": 112,
      "outputs": []
    },
    {
      "cell_type": "code",
      "source": [
        "# Adjusted learning rates\n",
        "optimizer_G = optim.Adam(generator.parameters(), lr=0.00002, betas=(0.5, 0.999))\n",
        "optimizer_D = optim.Adam(discriminator.parameters(), lr=0.0002, betas=(0.5, 0.999))\n",
        "\n",
        "num_epochs = 10\n",
        "\n",
        "# Placeholder for tracking the best generator loss\n",
        "best_g_loss = float('inf')\n",
        "\n",
        "# Training loop\n",
        "for epoch in range(num_epochs):\n",
        "    for batch_data in dataloader:\n",
        "        features, labels = batch_data\n",
        "\n",
        "        # Adversarial ground truths\n",
        "        valid = torch.ones(features.size(0), 1)\n",
        "        fake = torch.zeros(features.size(0), 1)\n",
        "\n",
        "        # Train Discriminator\n",
        "        optimizer_D.zero_grad()\n",
        "        real_loss = criterion(discriminator(features, labels), valid)\n",
        "        noise = torch.randn(features.size(0), 100)\n",
        "        fake_data = generator(noise, labels)\n",
        "        fake_loss = criterion(discriminator(fake_data.detach(), labels), fake)\n",
        "        d_loss = (real_loss + fake_loss) / 2\n",
        "        d_loss.backward()\n",
        "        # Apply gradient clipping to discriminator\n",
        "        torch.nn.utils.clip_grad_norm_(discriminator.parameters(), 1.0)\n",
        "        optimizer_D.step()\n",
        "\n",
        "        # Train Generator twice\n",
        "        for _ in range(5):\n",
        "            optimizer_G.zero_grad()\n",
        "            fake_data = generator(noise, labels)\n",
        "            g_loss = criterion(discriminator(fake_data, labels), valid)\n",
        "            g_loss.backward()\n",
        "            # Apply gradient clipping to generator\n",
        "            torch.nn.utils.clip_grad_norm_(generator.parameters(), 1.0)\n",
        "            optimizer_G.step()\n",
        "\n",
        "    print(f\"[Epoch {epoch}/{num_epochs}] [D loss: {d_loss.item()}] [G loss: {g_loss.item()}]\")\n",
        "\n",
        "    # # Early stopping (optional)\n",
        "    # if g_loss.item() < best_g_loss:\n",
        "    #     best_g_loss = g_loss.item()\n",
        "    # else:\n",
        "    #     print(f\"Early stopping at epoch {epoch} as generator loss did not improve.\")\n",
        "    #     break\n"
      ],
      "metadata": {
        "colab": {
          "base_uri": "https://localhost:8080/"
        },
        "id": "wYPW3iWUOe9u",
        "outputId": "df25b453-2d32-4bcb-fd8c-b94b67627d42"
      },
      "execution_count": 113,
      "outputs": [
        {
          "output_type": "stream",
          "name": "stdout",
          "text": [
            "[Epoch 0/10] [D loss: 0.42357563972473145] [G loss: 25.111377716064453]\n",
            "[Epoch 1/10] [D loss: 0.49670588970184326] [G loss: 3.6281373500823975]\n",
            "[Epoch 2/10] [D loss: 0.505672037601471] [G loss: 1.5176180601119995]\n",
            "[Epoch 3/10] [D loss: 0.4198066294193268] [G loss: 6.167909622192383]\n",
            "[Epoch 4/10] [D loss: 0.3638898432254791] [G loss: 8.518022537231445]\n",
            "[Epoch 5/10] [D loss: 0.43862485885620117] [G loss: 3.88582181930542]\n",
            "[Epoch 6/10] [D loss: 0.26326802372932434] [G loss: 8.591102600097656]\n",
            "[Epoch 7/10] [D loss: 0.30726128816604614] [G loss: 4.55811882019043]\n",
            "[Epoch 8/10] [D loss: 0.29412728548049927] [G loss: 4.296331882476807]\n",
            "[Epoch 9/10] [D loss: 0.22283518314361572] [G loss: 5.609951019287109]\n"
          ]
        }
      ]
    },
    {
      "cell_type": "code",
      "source": [],
      "metadata": {
        "id": "TNcmUcUTmTbT"
      },
      "execution_count": null,
      "outputs": []
    },
    {
      "cell_type": "code",
      "source": [],
      "metadata": {
        "id": "21DtEPnPmTXx"
      },
      "execution_count": null,
      "outputs": []
    },
    {
      "cell_type": "code",
      "source": [],
      "metadata": {
        "id": "g91shOoumTRL"
      },
      "execution_count": null,
      "outputs": []
    },
    {
      "cell_type": "code",
      "source": [
        "import numpy as np\n",
        "\n",
        "# Number of samples you want to generate\n",
        "num_samples = 40000\n",
        "\n",
        "num_zeros = int(num_samples * 0.981)\n",
        "num_ones = num_samples - num_zeros\n",
        "\n",
        "\n",
        "# Generate noise vectors\n",
        "noise = torch.randn(num_samples, 100)  # Assuming the noise vector is of size 100\n",
        "\n",
        "# Generate labels for the synthetic data\n",
        "# Creating an 80-20 split between label 0 and label 1\n",
        "labels = torch.cat([torch.zeros(num_zeros, 1), torch.ones(num_ones, 1)])\n",
        "\n",
        "# Shuffle the labels to ensure a mix of 0s and 1s\n",
        "indices = torch.randperm(num_samples)\n",
        "labels = labels[indices]\n",
        "\n",
        "\n",
        "with torch.no_grad():  # We don't need gradients for this operation\n",
        "    generated_data = generator(noise, labels)\n",
        "\n",
        "# Convert the generated data to a numpy array (if necessary)\n",
        "generated_data_np = generated_data.cpu().numpy()\n",
        "\n",
        "# Convert the labels to a numpy array\n",
        "labels_np = labels.cpu().numpy()\n",
        "\n",
        "# Now, you can either use `generated_data_np` and `labels_np` directly or save them for later use.\n",
        "# For instance, to save it as a CSV file using pandas:\n",
        "df_generated = pd.DataFrame(np.hstack((generated_data_np, labels_np)), columns=(usable_columns+['reported']) )\n",
        "df_generated.to_csv('generated_data_with_labels_v10.csv', index=False)"
      ],
      "metadata": {
        "id": "RrYaiG_jMcVu"
      },
      "execution_count": 114,
      "outputs": []
    },
    {
      "cell_type": "code",
      "source": [],
      "metadata": {
        "id": "5bbLNr2gPdZv"
      },
      "execution_count": null,
      "outputs": []
    },
    {
      "cell_type": "code",
      "source": [
        "df_generated['reported'].value_counts()"
      ],
      "metadata": {
        "id": "XyHTyFV6McSP",
        "colab": {
          "base_uri": "https://localhost:8080/"
        },
        "outputId": "a0191240-6cb5-47ec-86fe-bda29a611f20"
      },
      "execution_count": 98,
      "outputs": [
        {
          "output_type": "execute_result",
          "data": {
            "text/plain": [
              "0.0    39240\n",
              "1.0      760\n",
              "Name: reported, dtype: int64"
            ]
          },
          "metadata": {},
          "execution_count": 98
        }
      ]
    },
    {
      "cell_type": "code",
      "source": [],
      "metadata": {
        "id": "h8oOj02Oa51U"
      },
      "execution_count": null,
      "outputs": []
    },
    {
      "cell_type": "markdown",
      "source": [
        "## Compare"
      ],
      "metadata": {
        "id": "xcNTqjeda9MR"
      }
    },
    {
      "cell_type": "code",
      "source": [
        "data['weekly_average_tx_count_of_recipient'].hist()"
      ],
      "metadata": {
        "colab": {
          "base_uri": "https://localhost:8080/",
          "height": 448
        },
        "id": "AykqQCsla7ZK",
        "outputId": "d30874da-d883-4ec0-baa4-eb33e89d2ed0"
      },
      "execution_count": 99,
      "outputs": [
        {
          "output_type": "execute_result",
          "data": {
            "text/plain": [
              "<Axes: >"
            ]
          },
          "metadata": {},
          "execution_count": 99
        },
        {
          "output_type": "display_data",
          "data": {
            "text/plain": [
              "<Figure size 640x480 with 1 Axes>"
            ],
            "image/png": "[encoded data removed]"
          },
          "metadata": {}
        }
      ]
    },
    {
      "cell_type": "code",
      "source": [
        "df_generated['weekly_average_tx_count_of_recipient'].hist()"
      ],
      "metadata": {
        "colab": {
          "base_uri": "https://localhost:8080/",
          "height": 448
        },
        "id": "BVZCohHCa7Vx",
        "outputId": "843b49a0-9e56-4088-a774-fadfe1b21069"
      },
      "execution_count": 100,
      "outputs": [
        {
          "output_type": "execute_result",
          "data": {
            "text/plain": [
              "<Axes: >"
            ]
          },
          "metadata": {},
          "execution_count": 100
        },
        {
          "output_type": "display_data",
          "data": {
            "text/plain": [
              "<Figure size 640x480 with 1 Axes>"
            ],
            "image/png": "[encoded data removed]"
          },
          "metadata": {}
        }
      ]
    },
    {
      "cell_type": "code",
      "source": [],
      "metadata": {
        "id": "R6OZi1dagF04"
      },
      "execution_count": null,
      "outputs": []
    },
    {
      "cell_type": "markdown",
      "source": [
        "# Predict and evaluate"
      ],
      "metadata": {
        "id": "8RwMSaFPocuM"
      }
    },
    {
      "cell_type": "code",
      "source": [],
      "metadata": {
        "id": "-Z6kppDZoi-H"
      },
      "execution_count": null,
      "outputs": []
    },
    {
      "cell_type": "code",
      "source": [],
      "metadata": {
        "id": "YOuzKGfcoi67"
      },
      "execution_count": null,
      "outputs": []
    },
    {
      "cell_type": "code",
      "source": [],
      "metadata": {
        "id": "7yo0Gtd3oiVP"
      },
      "execution_count": null,
      "outputs": []
    }
  ]
}