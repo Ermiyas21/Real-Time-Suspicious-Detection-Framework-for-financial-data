{
 "cells": [
  {
   "cell_type": "code",
   "execution_count": 11,
   "id": "initial_id",
   "metadata": {
    "collapsed": true,
    "ExecuteTime": {
     "end_time": "2024-05-21T20:13:17.133680Z",
     "start_time": "2024-05-21T20:13:12.994420Z"
    }
   },
   "outputs": [],
   "source": [
    "from catboost import CatBoostClassifier"
   ]
  },
  {
   "cell_type": "code",
   "outputs": [
    {
     "name": "stdout",
     "output_type": "stream",
     "text": [
      "Requirement already satisfied: pandas in /Users/elshangadimov/Desktop/MSC Thesis/MSC/venv/lib/python3.10/site-packages (2.2.2)\r\n",
      "Requirement already satisfied: numpy>=1.22.4 in /Users/elshangadimov/Desktop/MSC Thesis/MSC/venv/lib/python3.10/site-packages (from pandas) (1.26.4)\r\n",
      "Requirement already satisfied: python-dateutil>=2.8.2 in /Users/elshangadimov/Desktop/MSC Thesis/MSC/venv/lib/python3.10/site-packages (from pandas) (2.9.0.post0)\r\n",
      "Requirement already satisfied: pytz>=2020.1 in /Users/elshangadimov/Desktop/MSC Thesis/MSC/venv/lib/python3.10/site-packages (from pandas) (2024.1)\r\n",
      "Requirement already satisfied: tzdata>=2022.7 in /Users/elshangadimov/Desktop/MSC Thesis/MSC/venv/lib/python3.10/site-packages (from pandas) (2024.1)\r\n",
      "Requirement already satisfied: six>=1.5 in /Users/elshangadimov/Desktop/MSC Thesis/MSC/venv/lib/python3.10/site-packages (from python-dateutil>=2.8.2->pandas) (1.16.0)\r\n"
     ]
    }
   ],
   "source": [
    "!pip install pandas"
   ],
   "metadata": {
    "collapsed": false,
    "ExecuteTime": {
     "end_time": "2024-05-21T20:11:05.401841Z",
     "start_time": "2024-05-21T20:11:04.105925Z"
    }
   },
   "id": "b854ba017b544d07",
   "execution_count": 8
  },
  {
   "cell_type": "code",
   "outputs": [
    {
     "name": "stdout",
     "output_type": "stream",
     "text": [
      "Collecting catboost\r\n",
      "  Downloading catboost-1.2.5-cp310-cp310-macosx_11_0_universal2.whl.metadata (1.2 kB)\r\n",
      "Collecting graphviz (from catboost)\r\n",
      "  Using cached graphviz-0.20.3-py3-none-any.whl.metadata (12 kB)\r\n",
      "Requirement already satisfied: matplotlib in /Users/elshangadimov/Desktop/MSC Thesis/MSC/venv/lib/python3.10/site-packages (from catboost) (3.9.0)\r\n",
      "Requirement already satisfied: numpy>=1.16.0 in /Users/elshangadimov/Desktop/MSC Thesis/MSC/venv/lib/python3.10/site-packages (from catboost) (1.26.4)\r\n",
      "Requirement already satisfied: pandas>=0.24 in /Users/elshangadimov/Desktop/MSC Thesis/MSC/venv/lib/python3.10/site-packages (from catboost) (2.2.2)\r\n",
      "Requirement already satisfied: scipy in /Users/elshangadimov/Desktop/MSC Thesis/MSC/venv/lib/python3.10/site-packages (from catboost) (1.13.0)\r\n",
      "Collecting plotly (from catboost)\r\n",
      "  Using cached plotly-5.22.0-py3-none-any.whl.metadata (7.1 kB)\r\n",
      "Requirement already satisfied: six in /Users/elshangadimov/Desktop/MSC Thesis/MSC/venv/lib/python3.10/site-packages (from catboost) (1.16.0)\r\n",
      "Requirement already satisfied: python-dateutil>=2.8.2 in /Users/elshangadimov/Desktop/MSC Thesis/MSC/venv/lib/python3.10/site-packages (from pandas>=0.24->catboost) (2.9.0.post0)\r\n",
      "Requirement already satisfied: pytz>=2020.1 in /Users/elshangadimov/Desktop/MSC Thesis/MSC/venv/lib/python3.10/site-packages (from pandas>=0.24->catboost) (2024.1)\r\n",
      "Requirement already satisfied: tzdata>=2022.7 in /Users/elshangadimov/Desktop/MSC Thesis/MSC/venv/lib/python3.10/site-packages (from pandas>=0.24->catboost) (2024.1)\r\n",
      "Requirement already satisfied: contourpy>=1.0.1 in /Users/elshangadimov/Desktop/MSC Thesis/MSC/venv/lib/python3.10/site-packages (from matplotlib->catboost) (1.2.1)\r\n",
      "Requirement already satisfied: cycler>=0.10 in /Users/elshangadimov/Desktop/MSC Thesis/MSC/venv/lib/python3.10/site-packages (from matplotlib->catboost) (0.12.1)\r\n",
      "Requirement already satisfied: fonttools>=4.22.0 in /Users/elshangadimov/Desktop/MSC Thesis/MSC/venv/lib/python3.10/site-packages (from matplotlib->catboost) (4.51.0)\r\n",
      "Requirement already satisfied: kiwisolver>=1.3.1 in /Users/elshangadimov/Desktop/MSC Thesis/MSC/venv/lib/python3.10/site-packages (from matplotlib->catboost) (1.4.5)\r\n",
      "Requirement already satisfied: packaging>=20.0 in /Users/elshangadimov/Desktop/MSC Thesis/MSC/venv/lib/python3.10/site-packages (from matplotlib->catboost) (24.0)\r\n",
      "Requirement already satisfied: pillow>=8 in /Users/elshangadimov/Desktop/MSC Thesis/MSC/venv/lib/python3.10/site-packages (from matplotlib->catboost) (10.3.0)\r\n",
      "Requirement already satisfied: pyparsing>=2.3.1 in /Users/elshangadimov/Desktop/MSC Thesis/MSC/venv/lib/python3.10/site-packages (from matplotlib->catboost) (3.1.2)\r\n",
      "Collecting tenacity>=6.2.0 (from plotly->catboost)\r\n",
      "  Using cached tenacity-8.3.0-py3-none-any.whl.metadata (1.2 kB)\r\n",
      "Downloading catboost-1.2.5-cp310-cp310-macosx_11_0_universal2.whl (26.2 MB)\r\n",
      "\u001B[2K   \u001B[90m━━━━━━━━━━━━━━━━━━━━━━━━━━━━━━━━━━━━━━━━\u001B[0m \u001B[32m26.2/26.2 MB\u001B[0m \u001B[31m4.8 MB/s\u001B[0m eta \u001B[36m0:00:00\u001B[0m00:01\u001B[0m00:01\u001B[0m\r\n",
      "\u001B[?25hUsing cached graphviz-0.20.3-py3-none-any.whl (47 kB)\r\n",
      "Using cached plotly-5.22.0-py3-none-any.whl (16.4 MB)\r\n",
      "Using cached tenacity-8.3.0-py3-none-any.whl (25 kB)\r\n",
      "Installing collected packages: tenacity, graphviz, plotly, catboost\r\n",
      "Successfully installed catboost-1.2.5 graphviz-0.20.3 plotly-5.22.0 tenacity-8.3.0\r\n"
     ]
    }
   ],
   "source": [
    "!SYSTEM_VERSION_COMPAT=0 pip install catboost"
   ],
   "metadata": {
    "collapsed": false,
    "ExecuteTime": {
     "end_time": "2024-05-21T20:13:07.556988Z",
     "start_time": "2024-05-21T20:12:47.085551Z"
    }
   },
   "id": "f49a20661ef0fa10",
   "execution_count": 10
  },
  {
   "cell_type": "code",
   "outputs": [],
   "source": [],
   "metadata": {
    "collapsed": false
   },
   "id": "f059f552f5321aaf"
  },
  {
   "cell_type": "code",
   "outputs": [],
   "source": [],
   "metadata": {
    "collapsed": false
   },
   "id": "eb34f829c077362d"
  },
  {
   "cell_type": "code",
   "outputs": [],
   "source": [],
   "metadata": {
    "collapsed": false
   },
   "id": "835c00d7ae489c5e"
  }
 ],
 "metadata": {
  "kernelspec": {
   "display_name": "Python 3",
   "language": "python",
   "name": "python3"
  },
  "language_info": {
   "codemirror_mode": {
    "name": "ipython",
    "version": 2
   },
   "file_extension": ".py",
   "mimetype": "text/x-python",
   "name": "python",
   "nbconvert_exporter": "python",
   "pygments_lexer": "ipython2",
   "version": "2.7.6"
  }
 },
 "nbformat": 4,
 "nbformat_minor": 5
}
