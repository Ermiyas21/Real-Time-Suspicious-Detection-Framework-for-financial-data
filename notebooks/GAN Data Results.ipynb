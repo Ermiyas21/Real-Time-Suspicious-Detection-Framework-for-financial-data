{
 "cells": [
  {
   "cell_type": "markdown",
   "metadata": {},
   "source": [
    "# GAN Results"
   ]
  },
  {
   "cell_type": "markdown",
   "metadata": {},
   "source": [
    "In this notebook we will load the data which have been trained using GANs and we will train this model "
   ]
  },
  {
   "cell_type": "code",
   "execution_count": 1,
   "metadata": {},
   "outputs": [],
   "source": [
    "import pandas as pd\n",
    "import numpy as np\n",
    "import matplotlib.pyplot as plt\n",
    "import torch\n",
    "import torch.nn as nn\n",
    "import torch.optim as optim\n",
    "from sklearn.preprocessing import StandardScaler, MinMaxScaler"
   ]
  },
  {
   "cell_type": "code",
   "execution_count": 30,
   "metadata": {},
   "outputs": [],
   "source": [
    "gan_df = pd.read_csv('data/generated_data_with_labels_v10.csv')"
   ]
  },
  {
   "cell_type": "code",
   "execution_count": 31,
   "metadata": {},
   "outputs": [
    {
     "name": "stdout",
     "output_type": "stream",
     "text": [
      "(300000, 47)\n"
     ]
    }
   ],
   "source": [
    "print(gan_df.shape)"
   ]
  },
  {
   "cell_type": "code",
   "execution_count": 32,
   "metadata": {},
   "outputs": [],
   "source": [
    "pd.options.display.float_format = '{:.4f}'.format"
   ]
  },
  {
   "cell_type": "code",
   "execution_count": 33,
   "metadata": {},
   "outputs": [
    {
     "data": {
      "text/html": [
       "<div>\n",
       "<style scoped>\n",
       "    .dataframe tbody tr th:only-of-type {\n",
       "        vertical-align: middle;\n",
       "    }\n",
       "\n",
       "    .dataframe tbody tr th {\n",
       "        vertical-align: top;\n",
       "    }\n",
       "\n",
       "    .dataframe thead th {\n",
       "        text-align: right;\n",
       "    }\n",
       "</style>\n",
       "<table border=\"1\" class=\"dataframe\">\n",
       "  <thead>\n",
       "    <tr style=\"text-align: right;\">\n",
       "      <th></th>\n",
       "      <th>amount</th>\n",
       "      <th>day</th>\n",
       "      <th>month</th>\n",
       "      <th>year</th>\n",
       "      <th>weekofyear</th>\n",
       "      <th>is_weekend</th>\n",
       "      <th>day_of_week</th>\n",
       "      <th>quarter</th>\n",
       "      <th>daily_tx_count_of_recipient</th>\n",
       "      <th>daily_tx_count_of_sender</th>\n",
       "      <th>...</th>\n",
       "      <th>weekly_average_tx_count_of_recipient</th>\n",
       "      <th>weekly_average_tx_count_of_sender</th>\n",
       "      <th>weekly_average_tx_count_of_recipient_accNumber</th>\n",
       "      <th>monthly_average_tx_count_of_recipient</th>\n",
       "      <th>monthly_average_tx_count_of_sender</th>\n",
       "      <th>monthly_average_tx_count_of_recipient_accNumber</th>\n",
       "      <th>daily_average_tx_count_of_recipient</th>\n",
       "      <th>daily_average_tx_count_of_sender</th>\n",
       "      <th>daily_average_tx_count_of_recipient_accNumber</th>\n",
       "      <th>reported</th>\n",
       "    </tr>\n",
       "  </thead>\n",
       "  <tbody>\n",
       "    <tr>\n",
       "      <th>0</th>\n",
       "      <td>-0.0023</td>\n",
       "      <td>0.6974</td>\n",
       "      <td>0.2200</td>\n",
       "      <td>0.0027</td>\n",
       "      <td>0.3116</td>\n",
       "      <td>0.0405</td>\n",
       "      <td>0.3772</td>\n",
       "      <td>0.6611</td>\n",
       "      <td>0.0015</td>\n",
       "      <td>0.0021</td>\n",
       "      <td>...</td>\n",
       "      <td>0.0043</td>\n",
       "      <td>-0.0000</td>\n",
       "      <td>0.0158</td>\n",
       "      <td>0.0006</td>\n",
       "      <td>0.0033</td>\n",
       "      <td>0.0081</td>\n",
       "      <td>-0.0020</td>\n",
       "      <td>-0.0006</td>\n",
       "      <td>-0.0013</td>\n",
       "      <td>0.0000</td>\n",
       "    </tr>\n",
       "    <tr>\n",
       "      <th>1</th>\n",
       "      <td>0.0005</td>\n",
       "      <td>0.1875</td>\n",
       "      <td>0.8018</td>\n",
       "      <td>0.0050</td>\n",
       "      <td>0.7437</td>\n",
       "      <td>-0.0909</td>\n",
       "      <td>0.2113</td>\n",
       "      <td>0.9991</td>\n",
       "      <td>0.0046</td>\n",
       "      <td>0.0039</td>\n",
       "      <td>...</td>\n",
       "      <td>-0.0039</td>\n",
       "      <td>-0.0040</td>\n",
       "      <td>-0.0003</td>\n",
       "      <td>0.0093</td>\n",
       "      <td>0.0081</td>\n",
       "      <td>0.0105</td>\n",
       "      <td>0.0124</td>\n",
       "      <td>0.0128</td>\n",
       "      <td>0.0173</td>\n",
       "      <td>0.0000</td>\n",
       "    </tr>\n",
       "    <tr>\n",
       "      <th>2</th>\n",
       "      <td>0.0006</td>\n",
       "      <td>0.3404</td>\n",
       "      <td>0.6583</td>\n",
       "      <td>0.0018</td>\n",
       "      <td>0.6399</td>\n",
       "      <td>0.0019</td>\n",
       "      <td>0.2535</td>\n",
       "      <td>0.9943</td>\n",
       "      <td>0.0032</td>\n",
       "      <td>0.0039</td>\n",
       "      <td>...</td>\n",
       "      <td>-0.0033</td>\n",
       "      <td>-0.0031</td>\n",
       "      <td>-0.0130</td>\n",
       "      <td>0.0031</td>\n",
       "      <td>0.0040</td>\n",
       "      <td>0.0053</td>\n",
       "      <td>0.0065</td>\n",
       "      <td>0.0116</td>\n",
       "      <td>0.0107</td>\n",
       "      <td>0.0000</td>\n",
       "    </tr>\n",
       "    <tr>\n",
       "      <th>3</th>\n",
       "      <td>0.0003</td>\n",
       "      <td>0.3823</td>\n",
       "      <td>0.7073</td>\n",
       "      <td>-0.0083</td>\n",
       "      <td>0.6401</td>\n",
       "      <td>0.9521</td>\n",
       "      <td>0.9914</td>\n",
       "      <td>0.9947</td>\n",
       "      <td>-0.0342</td>\n",
       "      <td>-0.0309</td>\n",
       "      <td>...</td>\n",
       "      <td>0.0563</td>\n",
       "      <td>0.0405</td>\n",
       "      <td>0.0546</td>\n",
       "      <td>0.0144</td>\n",
       "      <td>0.0086</td>\n",
       "      <td>0.0060</td>\n",
       "      <td>-0.0621</td>\n",
       "      <td>-0.0626</td>\n",
       "      <td>-0.0406</td>\n",
       "      <td>0.0000</td>\n",
       "    </tr>\n",
       "    <tr>\n",
       "      <th>4</th>\n",
       "      <td>-0.0090</td>\n",
       "      <td>0.1686</td>\n",
       "      <td>0.4478</td>\n",
       "      <td>-0.0002</td>\n",
       "      <td>0.3608</td>\n",
       "      <td>-0.0003</td>\n",
       "      <td>0.1924</td>\n",
       "      <td>0.9813</td>\n",
       "      <td>0.0226</td>\n",
       "      <td>0.0260</td>\n",
       "      <td>...</td>\n",
       "      <td>0.0871</td>\n",
       "      <td>0.0907</td>\n",
       "      <td>0.0868</td>\n",
       "      <td>0.0903</td>\n",
       "      <td>0.0835</td>\n",
       "      <td>0.0899</td>\n",
       "      <td>0.0866</td>\n",
       "      <td>0.0837</td>\n",
       "      <td>0.0956</td>\n",
       "      <td>0.0000</td>\n",
       "    </tr>\n",
       "  </tbody>\n",
       "</table>\n",
       "<p>5 rows × 47 columns</p>\n",
       "</div>"
      ],
      "text/plain": [
       "   amount    day  month    year  weekofyear  is_weekend  day_of_week  quarter  \\\n",
       "0 -0.0023 0.6974 0.2200  0.0027      0.3116      0.0405       0.3772   0.6611   \n",
       "1  0.0005 0.1875 0.8018  0.0050      0.7437     -0.0909       0.2113   0.9991   \n",
       "2  0.0006 0.3404 0.6583  0.0018      0.6399      0.0019       0.2535   0.9943   \n",
       "3  0.0003 0.3823 0.7073 -0.0083      0.6401      0.9521       0.9914   0.9947   \n",
       "4 -0.0090 0.1686 0.4478 -0.0002      0.3608     -0.0003       0.1924   0.9813   \n",
       "\n",
       "   daily_tx_count_of_recipient  daily_tx_count_of_sender  ...  \\\n",
       "0                       0.0015                    0.0021  ...   \n",
       "1                       0.0046                    0.0039  ...   \n",
       "2                       0.0032                    0.0039  ...   \n",
       "3                      -0.0342                   -0.0309  ...   \n",
       "4                       0.0226                    0.0260  ...   \n",
       "\n",
       "   weekly_average_tx_count_of_recipient  weekly_average_tx_count_of_sender  \\\n",
       "0                                0.0043                            -0.0000   \n",
       "1                               -0.0039                            -0.0040   \n",
       "2                               -0.0033                            -0.0031   \n",
       "3                                0.0563                             0.0405   \n",
       "4                                0.0871                             0.0907   \n",
       "\n",
       "   weekly_average_tx_count_of_recipient_accNumber  \\\n",
       "0                                          0.0158   \n",
       "1                                         -0.0003   \n",
       "2                                         -0.0130   \n",
       "3                                          0.0546   \n",
       "4                                          0.0868   \n",
       "\n",
       "   monthly_average_tx_count_of_recipient  monthly_average_tx_count_of_sender  \\\n",
       "0                                 0.0006                              0.0033   \n",
       "1                                 0.0093                              0.0081   \n",
       "2                                 0.0031                              0.0040   \n",
       "3                                 0.0144                              0.0086   \n",
       "4                                 0.0903                              0.0835   \n",
       "\n",
       "   monthly_average_tx_count_of_recipient_accNumber  \\\n",
       "0                                           0.0081   \n",
       "1                                           0.0105   \n",
       "2                                           0.0053   \n",
       "3                                           0.0060   \n",
       "4                                           0.0899   \n",
       "\n",
       "   daily_average_tx_count_of_recipient  daily_average_tx_count_of_sender  \\\n",
       "0                              -0.0020                           -0.0006   \n",
       "1                               0.0124                            0.0128   \n",
       "2                               0.0065                            0.0116   \n",
       "3                              -0.0621                           -0.0626   \n",
       "4                               0.0866                            0.0837   \n",
       "\n",
       "   daily_average_tx_count_of_recipient_accNumber  reported  \n",
       "0                                        -0.0013    0.0000  \n",
       "1                                         0.0173    0.0000  \n",
       "2                                         0.0107    0.0000  \n",
       "3                                        -0.0406    0.0000  \n",
       "4                                         0.0956    0.0000  \n",
       "\n",
       "[5 rows x 47 columns]"
      ]
     },
     "execution_count": 33,
     "metadata": {},
     "output_type": "execute_result"
    }
   ],
   "source": [
    "gan_df.head()"
   ]
  },
  {
   "cell_type": "code",
   "execution_count": 34,
   "metadata": {},
   "outputs": [
    {
     "data": {
      "text/plain": [
       "Index(['amount', 'day', 'month', 'year', 'weekofyear', 'is_weekend',\n",
       "       'day_of_week', 'quarter', 'daily_tx_count_of_recipient',\n",
       "       'daily_tx_count_of_sender', 'daily_tx_count_of_recipient_accNumber',\n",
       "       'weekly_tx_count_of_recipient', 'weekly_tx_count_of_sender',\n",
       "       'weekly_tx_count_of_recipient_accNumber',\n",
       "       'monthly_tx_count_of_recipient', 'monthly_tx_count_of_sender',\n",
       "       'monthly_tx_count_of_recipient_accNumber',\n",
       "       'recipient_acc_per_recipient_name', 'sender_per_recipient_name',\n",
       "       'weekly_tx_amount_of_recipient', 'weekly_tx_amount_of_sender',\n",
       "       'weekly_tx_amount_of_recipient_accNumber',\n",
       "       'monthly_tx_amount_of_recipient', 'monthly_tx_amount_of_sender',\n",
       "       'monthly_tx_amount_of_recipient_accNumber',\n",
       "       'daily_tx_amount_of_recipient', 'daily_tx_amount_of_sender',\n",
       "       'daily_tx_amount_of_recipient_accNumber',\n",
       "       'weekly_average_tx_amount_of_recipient',\n",
       "       'weekly_average_tx_amount_of_sender',\n",
       "       'weekly_average_tx_amount_of_recipient_accNumber',\n",
       "       'monthly_average_tx_amount_of_recipient',\n",
       "       'monthly_average_tx_amount_of_sender',\n",
       "       'monthly_average_tx_amount_of_recipient_accNumber',\n",
       "       'daily_average_tx_amount_of_recipient',\n",
       "       'daily_average_tx_amount_of_sender',\n",
       "       'daily_average_tx_amount_of_recipient_accNumber',\n",
       "       'weekly_average_tx_count_of_recipient',\n",
       "       'weekly_average_tx_count_of_sender',\n",
       "       'weekly_average_tx_count_of_recipient_accNumber',\n",
       "       'monthly_average_tx_count_of_recipient',\n",
       "       'monthly_average_tx_count_of_sender',\n",
       "       'monthly_average_tx_count_of_recipient_accNumber',\n",
       "       'daily_average_tx_count_of_recipient',\n",
       "       'daily_average_tx_count_of_sender',\n",
       "       'daily_average_tx_count_of_recipient_accNumber', 'reported'],\n",
       "      dtype='object')"
      ]
     },
     "execution_count": 34,
     "metadata": {},
     "output_type": "execute_result"
    }
   ],
   "source": [
    "gan_df.columns"
   ]
  },
  {
   "cell_type": "code",
   "execution_count": 35,
   "metadata": {},
   "outputs": [
    {
     "data": {
      "text/plain": [
       "0        -0.0023\n",
       "1         0.0005\n",
       "2         0.0006\n",
       "3         0.0003\n",
       "4        -0.0090\n",
       "           ...  \n",
       "299995   -0.0019\n",
       "299996    0.0037\n",
       "299997   -0.0036\n",
       "299998    0.0024\n",
       "299999    0.0027\n",
       "Name: amount, Length: 300000, dtype: float64"
      ]
     },
     "execution_count": 35,
     "metadata": {},
     "output_type": "execute_result"
    }
   ],
   "source": [
    "gan_df['amount']"
   ]
  },
  {
   "cell_type": "code",
   "execution_count": 36,
   "metadata": {},
   "outputs": [],
   "source": [
    "gan_df['scaled_amount'] = StandardScaler().fit_transform(gan_df['amount'].values.reshape(-1, 1))"
   ]
  },
  {
   "cell_type": "code",
   "execution_count": 37,
   "metadata": {},
   "outputs": [
    {
     "name": "stdout",
     "output_type": "stream",
     "text": [
      "Index(['amount', 'day', 'month', 'year', 'weekofyear', 'is_weekend',\n",
      "       'day_of_week', 'quarter', 'daily_tx_count_of_recipient',\n",
      "       'daily_tx_count_of_sender', 'daily_tx_count_of_recipient_accNumber',\n",
      "       'weekly_tx_count_of_recipient', 'weekly_tx_count_of_sender',\n",
      "       'weekly_tx_count_of_recipient_accNumber',\n",
      "       'monthly_tx_count_of_recipient', 'monthly_tx_count_of_sender',\n",
      "       'monthly_tx_count_of_recipient_accNumber',\n",
      "       'recipient_acc_per_recipient_name', 'sender_per_recipient_name',\n",
      "       'weekly_tx_amount_of_recipient', 'weekly_tx_amount_of_sender',\n",
      "       'weekly_tx_amount_of_recipient_accNumber',\n",
      "       'monthly_tx_amount_of_recipient', 'monthly_tx_amount_of_sender',\n",
      "       'monthly_tx_amount_of_recipient_accNumber',\n",
      "       'daily_tx_amount_of_recipient', 'daily_tx_amount_of_sender',\n",
      "       'daily_tx_amount_of_recipient_accNumber',\n",
      "       'weekly_average_tx_amount_of_recipient',\n",
      "       'weekly_average_tx_amount_of_sender',\n",
      "       'weekly_average_tx_amount_of_recipient_accNumber',\n",
      "       'monthly_average_tx_amount_of_recipient',\n",
      "       'monthly_average_tx_amount_of_sender',\n",
      "       'monthly_average_tx_amount_of_recipient_accNumber',\n",
      "       'daily_average_tx_amount_of_recipient',\n",
      "       'daily_average_tx_amount_of_sender',\n",
      "       'daily_average_tx_amount_of_recipient_accNumber',\n",
      "       'weekly_average_tx_count_of_recipient',\n",
      "       'weekly_average_tx_count_of_sender',\n",
      "       'weekly_average_tx_count_of_recipient_accNumber',\n",
      "       'monthly_average_tx_count_of_recipient',\n",
      "       'monthly_average_tx_count_of_sender',\n",
      "       'monthly_average_tx_count_of_recipient_accNumber',\n",
      "       'daily_average_tx_count_of_recipient',\n",
      "       'daily_average_tx_count_of_sender',\n",
      "       'daily_average_tx_count_of_recipient_accNumber', 'reported',\n",
      "       'scaled_amount'],\n",
      "      dtype='object')\n"
     ]
    }
   ],
   "source": [
    "print(gan_df.columns)"
   ]
  },
  {
   "cell_type": "code",
   "execution_count": 38,
   "metadata": {},
   "outputs": [
    {
     "data": {
      "text/plain": [
       "48"
      ]
     },
     "execution_count": 38,
     "metadata": {},
     "output_type": "execute_result"
    }
   ],
   "source": [
    "len(gan_df.columns)"
   ]
  },
  {
   "cell_type": "markdown",
   "metadata": {},
   "source": [
    "## Train"
   ]
  },
  {
   "cell_type": "code",
   "execution_count": 39,
   "metadata": {},
   "outputs": [],
   "source": [
    "import torch.nn as nn\n",
    "\n",
    "class Autoencoder(nn.Module):\n",
    "    def __init__(self):\n",
    "        super(Autoencoder, self).__init__()\n",
    "\n",
    "        # Encoder\n",
    "        self.encoder = nn.Sequential(\n",
    "            nn.Linear(46, 23),  # Encode_1: 46 -> 24\n",
    "            nn.Tanh(),\n",
    "            nn.Linear(23, 12),  # Encode_2: 23 -> 12\n",
    "            nn.ReLU(),\n",
    "            nn.Linear(12, 6),  # Encode_3: 12 -> 6\n",
    "            nn.LeakyReLU()\n",
    "        )\n",
    "        \n",
    "        # Decoder\n",
    "        self.decoder = nn.Sequential(\n",
    "            nn.Linear(6, 12),  # Decode_1: 6 -> 12\n",
    "            nn.Tanh(),\n",
    "            nn.Linear(12, 23),  # Decode_2: 12 -> 23\n",
    "            nn.ReLU(),\n",
    "            nn.Linear(23, 46),  # Decode_3: 23 -> 46\n",
    "            nn.ReLU()\n",
    "        )\n",
    "        \n",
    "    def forward(self, x):\n",
    "        x = self.encoder(x)\n",
    "        x = self.decoder(x)\n",
    "        return x"
   ]
  },
  {
   "cell_type": "code",
   "execution_count": 40,
   "metadata": {},
   "outputs": [],
   "source": [
    "gan_df['reported'].replace({True: 1, False: 0}, inplace=True)"
   ]
  },
  {
   "cell_type": "code",
   "execution_count": 41,
   "metadata": {},
   "outputs": [
    {
     "name": "stdout",
     "output_type": "stream",
     "text": [
      "0.0000    297000\n",
      "1.0000      3000\n",
      "Name: reported, dtype: int64\n"
     ]
    }
   ],
   "source": [
    "print(gan_df['reported'].value_counts())"
   ]
  },
  {
   "cell_type": "code",
   "execution_count": 42,
   "metadata": {},
   "outputs": [],
   "source": [
    "input_columns = ['scaled_amount', 'day', 'month', 'year', 'weekofyear', 'is_weekend', 'day_of_week', 'quarter', 'daily_tx_count_of_recipient', 'daily_tx_count_of_sender',\n",
    "    'daily_tx_count_of_recipient_accNumber', 'weekly_tx_count_of_recipient', 'weekly_tx_count_of_sender', 'weekly_tx_count_of_recipient_accNumber',\n",
    "    'monthly_tx_count_of_recipient', 'monthly_tx_count_of_sender', 'monthly_tx_count_of_recipient_accNumber','recipient_acc_per_recipient_name',\n",
    "    'sender_per_recipient_name', 'weekly_tx_amount_of_recipient', 'weekly_tx_amount_of_sender', 'weekly_tx_amount_of_recipient_accNumber',\n",
    "    'monthly_tx_amount_of_recipient', 'monthly_tx_amount_of_sender', 'monthly_tx_amount_of_recipient_accNumber','daily_tx_amount_of_recipient', \n",
    "    'daily_tx_amount_of_sender', 'daily_tx_amount_of_recipient_accNumber', 'weekly_average_tx_amount_of_recipient', 'weekly_average_tx_amount_of_sender',\n",
    "    'weekly_average_tx_amount_of_recipient_accNumber', 'monthly_average_tx_amount_of_recipient', 'monthly_average_tx_amount_of_sender',\n",
    "    'monthly_average_tx_amount_of_recipient_accNumber', 'daily_average_tx_amount_of_recipient', 'daily_average_tx_amount_of_sender',\n",
    "    'daily_average_tx_amount_of_recipient_accNumber', 'weekly_average_tx_count_of_recipient', 'weekly_average_tx_count_of_sender',\n",
    "    'weekly_average_tx_count_of_recipient_accNumber', 'monthly_average_tx_count_of_recipient', 'monthly_average_tx_count_of_sender',\n",
    "    'monthly_average_tx_count_of_recipient_accNumber', 'daily_average_tx_count_of_recipient', 'daily_average_tx_count_of_sender',\n",
    "    'daily_average_tx_count_of_recipient_accNumber']"
   ]
  },
  {
   "cell_type": "code",
   "execution_count": 43,
   "metadata": {},
   "outputs": [],
   "source": [
    "# do train test split \n",
    "from sklearn.model_selection import train_test_split\n",
    "\n",
    "X = gan_df[input_columns]\n",
    "y = gan_df['reported']"
   ]
  },
  {
   "cell_type": "code",
   "execution_count": 44,
   "metadata": {},
   "outputs": [],
   "source": [
    "X_train, X_test, y_train, y_test = train_test_split(X, y, test_size=0.25, shuffle=True, stratify=y)"
   ]
  },
  {
   "cell_type": "code",
   "execution_count": 17,
   "metadata": {},
   "outputs": [],
   "source": [
    "X_normal_train = X_train[y_train == 0]"
   ]
  },
  {
   "cell_type": "code",
   "execution_count": 18,
   "metadata": {},
   "outputs": [
    {
     "name": "stdout",
     "output_type": "stream",
     "text": [
      "0.0000   0.9900\n",
      "1.0000   0.0100\n",
      "Name: reported, dtype: float64\n"
     ]
    }
   ],
   "source": [
    "print(y_test.value_counts(normalize=True))"
   ]
  },
  {
   "cell_type": "code",
   "execution_count": 19,
   "metadata": {},
   "outputs": [],
   "source": [
    "train_tensor = torch.tensor(X_normal_train.values, dtype=torch.float32)\n",
    "test_tensor = torch.tensor(X_test.values, dtype=torch.float32)\n",
    "\n",
    "batch_size = 64\n",
    "train_dataset = torch.utils.data.TensorDataset(train_tensor)\n",
    "train_dataloader = torch.utils.data.DataLoader(train_dataset, batch_size=batch_size, shuffle=True)\n",
    "\n",
    "test_dataset = torch.utils.data.TensorDataset(test_tensor)\n",
    "test_dataloader = torch.utils.data.DataLoader(test_dataset, batch_size=batch_size, shuffle=False)\n",
    "\n",
    "lambda_reg = 1e-3\n",
    "\n",
    "# Model initialization\n",
    "model = Autoencoder()\n",
    "\n",
    "# Choice of loss\n",
    "loss_type = 'MSE'  # Choose between 'MSE' and 'BCE'\n",
    "if loss_type == 'MSE':\n",
    "    criterion = nn.MSELoss()  # Mean squared error loss\n",
    "else:\n",
    "    criterion = nn.BCEWithLogitsLoss()  # Binary cross-entropy loss. Use if you have a sigmoid activation in the output layer.\n",
    "\n",
    "# Optimizer\n",
    "optimizer = torch.optim.Adam(model.parameters(), lr=0.00001, weight_decay=lambda_reg)  #  torch.optim.Adam(model.parameters(), lr=0.001)\n",
    "\n",
    "# Early stopping setup\n",
    "best_loss = float('inf')\n",
    "patience = 10\n",
    "epochs_without_improvement = 0\n",
    "\n",
    "# Training loop with early stopping\n",
    "num_epochs = 100\n",
    "\n",
    "loss_values = []\n",
    "test_loss_values = []\n",
    "reconstruction_errors = []"
   ]
  },
  {
   "cell_type": "code",
   "execution_count": 20,
   "metadata": {},
   "outputs": [
    {
     "name": "stdout",
     "output_type": "stream",
     "text": [
      "Epoch [1/100], Train Loss: 0.1218, Test Loss: 0.0542\n",
      "Epoch [2/100], Train Loss: 0.0601, Test Loss: 0.0497\n",
      "Epoch [3/100], Train Loss: 0.0454, Test Loss: 0.0492\n",
      "Epoch [4/100], Train Loss: 0.0395, Test Loss: 0.0492\n",
      "Epoch [5/100], Train Loss: 0.0381, Test Loss: 0.0488\n",
      "Epoch [6/100], Train Loss: 0.0373, Test Loss: 0.0487\n",
      "Epoch [7/100], Train Loss: 0.0369, Test Loss: 0.0487\n",
      "Epoch [8/100], Train Loss: 0.0368, Test Loss: 0.0487\n",
      "Epoch [9/100], Train Loss: 0.0345, Test Loss: 0.0412\n",
      "Epoch [10/100], Train Loss: 0.0229, Test Loss: 0.0295\n",
      "Epoch [11/100], Train Loss: 0.0148, Test Loss: 0.0260\n",
      "Epoch [12/100], Train Loss: 0.0137, Test Loss: 0.0259\n",
      "Epoch [13/100], Train Loss: 0.0136, Test Loss: 0.0259\n",
      "Epoch [14/100], Train Loss: 0.0135, Test Loss: 0.0259\n",
      "Epoch [15/100], Train Loss: 0.0135, Test Loss: 0.0259\n",
      "Epoch [16/100], Train Loss: 0.0134, Test Loss: 0.0259\n",
      "Epoch [17/100], Train Loss: 0.0134, Test Loss: 0.0259\n",
      "Epoch [18/100], Train Loss: 0.0134, Test Loss: 0.0259\n",
      "Epoch [19/100], Train Loss: 0.0134, Test Loss: 0.0259\n",
      "Epoch [20/100], Train Loss: 0.0133, Test Loss: 0.0259\n",
      "Epoch [21/100], Train Loss: 0.0133, Test Loss: 0.0259\n",
      "Epoch [22/100], Train Loss: 0.0133, Test Loss: 0.0259\n",
      "Epoch [23/100], Train Loss: 0.0133, Test Loss: 0.0259\n",
      "Epoch [24/100], Train Loss: 0.0133, Test Loss: 0.0259\n",
      "Epoch [25/100], Train Loss: 0.0133, Test Loss: 0.0259\n",
      "Epoch [26/100], Train Loss: 0.0132, Test Loss: 0.0259\n",
      "Epoch [27/100], Train Loss: 0.0132, Test Loss: 0.0259\n",
      "Epoch [28/100], Train Loss: 0.0132, Test Loss: 0.0259\n",
      "Epoch [29/100], Train Loss: 0.0132, Test Loss: 0.0259\n",
      "Epoch [30/100], Train Loss: 0.0132, Test Loss: 0.0259\n",
      "Epoch [31/100], Train Loss: 0.0132, Test Loss: 0.0259\n",
      "Epoch [32/100], Train Loss: 0.0132, Test Loss: 0.0259\n",
      "Epoch [33/100], Train Loss: 0.0132, Test Loss: 0.0259\n",
      "Epoch [34/100], Train Loss: 0.0132, Test Loss: 0.0259\n",
      "Epoch [35/100], Train Loss: 0.0132, Test Loss: 0.0259\n",
      "Epoch [36/100], Train Loss: 0.0132, Test Loss: 0.0259\n",
      "Epoch [37/100], Train Loss: 0.0132, Test Loss: 0.0259\n",
      "Epoch [38/100], Train Loss: 0.0131, Test Loss: 0.0259\n",
      "Epoch [39/100], Train Loss: 0.0131, Test Loss: 0.0259\n",
      "Epoch [40/100], Train Loss: 0.0131, Test Loss: 0.0259\n",
      "Epoch [41/100], Train Loss: 0.0131, Test Loss: 0.0259\n",
      "Epoch [42/100], Train Loss: 0.0131, Test Loss: 0.0259\n",
      "Epoch [43/100], Train Loss: 0.0131, Test Loss: 0.0259\n",
      "Epoch [44/100], Train Loss: 0.0131, Test Loss: 0.0259\n",
      "Epoch [45/100], Train Loss: 0.0131, Test Loss: 0.0259\n",
      "Epoch [46/100], Train Loss: 0.0131, Test Loss: 0.0259\n",
      "Epoch [47/100], Train Loss: 0.0131, Test Loss: 0.0259\n",
      "Epoch [48/100], Train Loss: 0.0131, Test Loss: 0.0259\n",
      "Epoch [49/100], Train Loss: 0.0131, Test Loss: 0.0259\n",
      "Epoch [50/100], Train Loss: 0.0131, Test Loss: 0.0259\n",
      "Epoch [51/100], Train Loss: 0.0131, Test Loss: 0.0259\n",
      "Epoch [52/100], Train Loss: 0.0131, Test Loss: 0.0259\n",
      "Epoch [53/100], Train Loss: 0.0131, Test Loss: 0.0259\n",
      "Epoch [54/100], Train Loss: 0.0131, Test Loss: 0.0259\n",
      "Epoch [55/100], Train Loss: 0.0131, Test Loss: 0.0259\n",
      "Epoch [56/100], Train Loss: 0.0131, Test Loss: 0.0259\n",
      "Epoch [57/100], Train Loss: 0.0131, Test Loss: 0.0259\n",
      "Epoch [58/100], Train Loss: 0.0131, Test Loss: 0.0259\n",
      "Epoch [59/100], Train Loss: 0.0131, Test Loss: 0.0259\n",
      "Epoch [60/100], Train Loss: 0.0131, Test Loss: 0.0259\n",
      "Epoch [61/100], Train Loss: 0.0131, Test Loss: 0.0259\n",
      "Epoch [62/100], Train Loss: 0.0131, Test Loss: 0.0259\n",
      "Epoch [63/100], Train Loss: 0.0131, Test Loss: 0.0259\n",
      "Epoch [64/100], Train Loss: 0.0131, Test Loss: 0.0259\n",
      "Epoch [65/100], Train Loss: 0.0131, Test Loss: 0.0259\n",
      "Epoch [66/100], Train Loss: 0.0131, Test Loss: 0.0259\n",
      "Epoch [67/100], Train Loss: 0.0131, Test Loss: 0.0259\n",
      "Epoch [68/100], Train Loss: 0.0131, Test Loss: 0.0259\n",
      "Epoch [69/100], Train Loss: 0.0131, Test Loss: 0.0259\n",
      "Epoch [70/100], Train Loss: 0.0130, Test Loss: 0.0259\n",
      "Epoch [71/100], Train Loss: 0.0130, Test Loss: 0.0259\n",
      "Epoch [72/100], Train Loss: 0.0130, Test Loss: 0.0259\n",
      "Epoch [73/100], Train Loss: 0.0130, Test Loss: 0.0259\n",
      "Epoch [74/100], Train Loss: 0.0130, Test Loss: 0.0259\n",
      "Epoch [75/100], Train Loss: 0.0130, Test Loss: 0.0259\n",
      "Epoch [76/100], Train Loss: 0.0130, Test Loss: 0.0259\n",
      "Epoch [77/100], Train Loss: 0.0130, Test Loss: 0.0259\n",
      "Epoch [78/100], Train Loss: 0.0130, Test Loss: 0.0259\n",
      "Epoch [79/100], Train Loss: 0.0130, Test Loss: 0.0259\n",
      "Epoch [80/100], Train Loss: 0.0130, Test Loss: 0.0259\n",
      "Epoch [81/100], Train Loss: 0.0130, Test Loss: 0.0259\n",
      "Epoch [82/100], Train Loss: 0.0130, Test Loss: 0.0259\n",
      "Epoch [83/100], Train Loss: 0.0130, Test Loss: 0.0259\n",
      "Epoch [84/100], Train Loss: 0.0130, Test Loss: 0.0259\n",
      "Epoch [85/100], Train Loss: 0.0130, Test Loss: 0.0259\n",
      "Epoch [86/100], Train Loss: 0.0130, Test Loss: 0.0259\n",
      "Epoch [87/100], Train Loss: 0.0130, Test Loss: 0.0259\n",
      "Epoch [88/100], Train Loss: 0.0130, Test Loss: 0.0259\n",
      "Epoch [89/100], Train Loss: 0.0130, Test Loss: 0.0259\n",
      "Epoch [90/100], Train Loss: 0.0130, Test Loss: 0.0259\n",
      "Epoch [91/100], Train Loss: 0.0130, Test Loss: 0.0259\n",
      "Epoch [92/100], Train Loss: 0.0130, Test Loss: 0.0259\n",
      "Epoch [93/100], Train Loss: 0.0130, Test Loss: 0.0259\n",
      "Epoch [94/100], Train Loss: 0.0130, Test Loss: 0.0259\n",
      "Epoch [95/100], Train Loss: 0.0130, Test Loss: 0.0259\n",
      "Epoch [96/100], Train Loss: 0.0130, Test Loss: 0.0259\n",
      "Epoch [97/100], Train Loss: 0.0130, Test Loss: 0.0259\n",
      "Epoch [98/100], Train Loss: 0.0130, Test Loss: 0.0259\n",
      "Epoch [99/100], Train Loss: 0.0130, Test Loss: 0.0259\n",
      "Epoch [100/100], Train Loss: 0.0130, Test Loss: 0.0259\n"
     ]
    }
   ],
   "source": [
    "\n",
    "for epoch in range(num_epochs):\n",
    "    reconstruction_errors = []\n",
    "    epoch_loss = 0.0\n",
    "    for batch in train_dataloader:\n",
    "        inputs = batch[0]\n",
    "\n",
    "        # Zero the optimizer's gradient buffer\n",
    "        optimizer.zero_grad()\n",
    "\n",
    "        # Forward pass\n",
    "        outputs = model(inputs)\n",
    "        mse_loss = criterion(outputs, inputs)\n",
    "        \n",
    "        # 3. Activity Regularizer\n",
    "        # Assuming the first layer of the encoder is model.encoder[0]\n",
    "        activity_regularizer = lambda_reg * torch.norm(model.encoder[0](inputs), 1)\n",
    "        \n",
    "        # Combining the regularized loss\n",
    "        total_loss = mse_loss + activity_regularizer\n",
    "\n",
    "        # Backward pass and optimization\n",
    "        total_loss.backward()\n",
    "        optimizer.step()\n",
    "\n",
    "        epoch_loss += total_loss.item()\n",
    "    \n",
    "    epoch_loss = epoch_loss / len(train_dataloader)\n",
    "\n",
    "    # Save the loss value for plotting\n",
    "    loss_values.append(epoch_loss)\n",
    "\n",
    "    # Test the model\n",
    "    model.eval()\n",
    "    with torch.no_grad():\n",
    "        test_loss = 0.0\n",
    "        for batch in test_dataloader:\n",
    "            inputs = batch[0]\n",
    "            outputs = model(inputs)\n",
    "            mse_loss = criterion(outputs, inputs)\n",
    "            test_loss += mse_loss.item()\n",
    "\n",
    "            batch_errors = torch.sum((outputs - inputs) ** 2, dim=1).numpy() # Sum of squared differences for each sample\n",
    "            reconstruction_errors.extend(batch_errors)\n",
    "\n",
    "        test_loss = test_loss / len(test_dataloader)\n",
    "        test_loss_values.append(test_loss)\n",
    "\n",
    "    model.train()\n",
    "\n",
    "    print(f\"Epoch [{epoch + 1}/{num_epochs}], Train Loss: {epoch_loss:.4f}, Test Loss: {test_loss:.4f}\")\n",
    "\n",
    "\n",
    "    # Early stopping check\n",
    "    if epoch_loss + 1e-5 < best_loss:\n",
    "        best_loss = epoch_loss\n",
    "        epochs_without_improvement = 0\n",
    "    else:\n",
    "        epochs_without_improvement += 1\n",
    "\n",
    "    if epochs_without_improvement == patience:\n",
    "        print(\"Early stopping due to no improvement in loss.\")\n",
    "        break"
   ]
  },
  {
   "cell_type": "code",
   "execution_count": 21,
   "metadata": {},
   "outputs": [
    {
     "data": {
      "image/png": "[encoded data removed]",
      "text/plain": [
       "<Figure size 1200x600 with 1 Axes>"
      ]
     },
     "metadata": {},
     "output_type": "display_data"
    }
   ],
   "source": [
    "# Plotting the training and test losses\n",
    "plt.figure(figsize=(12, 6))\n",
    "plt.plot(loss_values, label=\"Train Loss\", color=\"blue\")\n",
    "plt.plot(test_loss_values, label=\"Test Loss\", color=\"red\")\n",
    "plt.xlabel(\"Epochs\")\n",
    "plt.ylabel(\"Loss\")\n",
    "plt.title(\"Training and Test Loss over Epochs\")\n",
    "plt.legend()\n",
    "plt.grid(True)\n",
    "plt.show()"
   ]
  },
  {
   "cell_type": "code",
   "execution_count": 22,
   "metadata": {},
   "outputs": [
    {
     "data": {
      "image/png": "[encoded data removed]",
      "text/plain": [
       "<Figure size 1200x600 with 1 Axes>"
      ]
     },
     "metadata": {},
     "output_type": "display_data"
    }
   ],
   "source": [
    "# sort and plot the reconstruction errors\n",
    "reconstruction_errors.sort()\n",
    "plt.figure(figsize=(12, 6))\n",
    "plt.plot(reconstruction_errors)\n",
    "plt.xlabel(\"Sample Index\")\n",
    "plt.ylabel(\"Reconstruction Error\")\n",
    "plt.title(\"Reconstruction Error for Each Sample\")\n",
    "plt.grid(True)"
   ]
  },
  {
   "cell_type": "code",
   "execution_count": null,
   "metadata": {},
   "outputs": [],
   "source": []
  },
  {
   "cell_type": "markdown",
   "metadata": {},
   "source": [
    "## Evaluation"
   ]
  },
  {
   "cell_type": "code",
   "execution_count": 23,
   "metadata": {},
   "outputs": [],
   "source": [
    "from sklearn.metrics import f1_score, precision_score, recall_score, accuracy_score, roc_auc_score, confusion_matrix, precision_recall_curve, roc_curve\n",
    "\n",
    "# Reconstruct the test data\n",
    "with torch.no_grad():\n",
    "    reconstructed_test = model(test_tensor).numpy()"
   ]
  },
  {
   "cell_type": "code",
   "execution_count": 24,
   "metadata": {},
   "outputs": [],
   "source": [
    "# Calculate reconstruction error\n",
    "reconstruction_errors = np.mean(np.power(X_test - reconstructed_test, 2), axis=1)\n",
    "\n",
    "# Choose a threshold based on domain knowledge, the distribution of reconstruction errors, or via a validation set.\n",
    "threshold = np.percentile(reconstruction_errors, 99)  # e.g., 99th percentile as threshold. This is a naive approach; refine based on your needs.\n",
    "\n",
    "# Convert reconstruction errors into binary labels (0 or 1)\n",
    "predicted_labels = [1 if error > threshold else 0 for error in reconstruction_errors]\n",
    "\n",
    "# Convert reconstruction errors into probabilities between 0 and 1\n",
    "predicted_probabilities = (reconstruction_errors - min(reconstruction_errors)) / (max(reconstruction_errors) - min(reconstruction_errors))\n",
    "\n",
    "# Assuming df has a 'reported' column with true labels\n",
    "true_labels = gan_df['reported'].loc[X_test.index].values"
   ]
  },
  {
   "cell_type": "code",
   "execution_count": 25,
   "metadata": {},
   "outputs": [
    {
     "data": {
      "image/png": "[encoded data removed]",
      "text/plain": [
       "<Figure size 1000x500 with 1 Axes>"
      ]
     },
     "metadata": {},
     "output_type": "display_data"
    }
   ],
   "source": [
    "import numpy as np\n",
    "import matplotlib.pyplot as plt\n",
    "from sklearn.metrics import precision_score, recall_score\n",
    "\n",
    "# Assuming the other parts of your code, where you compute `predicted_probabilities` and `true_labels`, are above this\n",
    "\n",
    "# List to store precision and recall values for each threshold\n",
    "precisions = []\n",
    "recalls = []\n",
    "\n",
    "# Iterate over a range of thresholds (e.g., from 0 to 1 with a step of 0.01)\n",
    "thresholds = np.arange(0, 1.01, 0.01)  # Adjust the range and step as needed\n",
    "\n",
    "for threshold in thresholds:\n",
    "    # Calculate predicted labels for this threshold\n",
    "    predicted_labels_threshold = [1 if error > threshold else 0 for error in predicted_probabilities]\n",
    "    \n",
    "    # Avoiding a scenario where there's a perfect precision or recall which can cause \"UndefinedMetricWarning\"\n",
    "    if len(np.unique(predicted_labels_threshold)) > 1:\n",
    "        # Compute precision and recall\n",
    "        precision = precision_score(true_labels, predicted_labels_threshold)\n",
    "        recall = recall_score(true_labels, predicted_labels_threshold)\n",
    "    else:\n",
    "        precision, recall = 0, 0\n",
    "\n",
    "    precisions.append(precision)\n",
    "    recalls.append(recall)\n",
    "\n",
    "# Find the threshold where precision and recall cross\n",
    "diffs = np.array(precisions) - np.array(recalls)\n",
    "cross_points = np.where(np.diff(np.sign(diffs)))[0]  # Where the difference changes sign\n",
    "\n",
    "# Plot\n",
    "plt.figure(figsize=(10,5))\n",
    "plt.plot(thresholds, precisions, label='Precision', color='blue')\n",
    "plt.plot(thresholds, recalls, label='Recall', color='green')\n",
    "\n",
    "# If there's an intersection point, plot it\n",
    "if len(cross_points) > 0:\n",
    "    cross_threshold = thresholds[cross_points[0]]\n",
    "    plt.axvline(x=cross_threshold, color='red', linestyle='--', label=f'Intersection at {cross_threshold:.2f}')\n",
    "\n",
    "plt.xlabel('Threshold')\n",
    "plt.ylabel('Value')\n",
    "plt.title('Precision and Recall for Different Thresholds')\n",
    "plt.legend()\n",
    "plt.grid(True)\n",
    "plt.show()\n"
   ]
  },
  {
   "cell_type": "code",
   "execution_count": 26,
   "metadata": {},
   "outputs": [
    {
     "data": {
      "image/png": "[encoded data removed]",
      "text/plain": [
       "<Figure size 1200x600 with 2 Axes>"
      ]
     },
     "metadata": {},
     "output_type": "display_data"
    }
   ],
   "source": [
    "# heatmap of confusion matrix\n",
    "import seaborn as sns\n",
    "\n",
    "conf_matrix = confusion_matrix(true_labels, predicted_labels)\n",
    "plt.figure(figsize=(12, 6))\n",
    "sns.heatmap(conf_matrix, annot=True, fmt='d', cmap='Blues')\n",
    "plt.title(\"Confusion Matrix\")\n",
    "plt.xlabel(\"Predicted Class\")\n",
    "plt.ylabel(\"True Class\")\n",
    "plt.show()"
   ]
  },
  {
   "cell_type": "code",
   "execution_count": null,
   "metadata": {},
   "outputs": [],
   "source": []
  },
  {
   "cell_type": "code",
   "execution_count": null,
   "metadata": {},
   "outputs": [],
   "source": []
  },
  {
   "cell_type": "code",
   "execution_count": 27,
   "metadata": {},
   "outputs": [],
   "source": [
    "normal_train_tensor = torch.tensor(X_normal_train.values, dtype=torch.float32)\n",
    "with torch.no_grad():\n",
    "    reconstructed_normal_train = model(normal_train_tensor).numpy()\n",
    "normal_reconstruction_errors = np.mean(np.power(X_normal_train - reconstructed_normal_train, 2), axis=1)\n",
    "\n",
    "# to dataframe\n",
    "normal_reconstruction_errors_df = pd.DataFrame(normal_reconstruction_errors, columns=['reconstruction_error'])"
   ]
  },
  {
   "cell_type": "code",
   "execution_count": 28,
   "metadata": {},
   "outputs": [
    {
     "data": {
      "text/plain": [
       "count   222750.0000\n",
       "mean         0.0130\n",
       "std          0.0243\n",
       "min          0.0023\n",
       "25%          0.0042\n",
       "50%          0.0073\n",
       "75%          0.0128\n",
       "max          1.0084\n",
       "dtype: float64"
      ]
     },
     "execution_count": 28,
     "metadata": {},
     "output_type": "execute_result"
    }
   ],
   "source": [
    "normal_reconstruction_errors.describe()"
   ]
  },
  {
   "cell_type": "code",
   "execution_count": 29,
   "metadata": {},
   "outputs": [
    {
     "data": {
      "text/html": [
       "<div>\n",
       "<style scoped>\n",
       "    .dataframe tbody tr th:only-of-type {\n",
       "        vertical-align: middle;\n",
       "    }\n",
       "\n",
       "    .dataframe tbody tr th {\n",
       "        vertical-align: top;\n",
       "    }\n",
       "\n",
       "    .dataframe thead th {\n",
       "        text-align: right;\n",
       "    }\n",
       "</style>\n",
       "<table border=\"1\" class=\"dataframe\">\n",
       "  <thead>\n",
       "    <tr style=\"text-align: right;\">\n",
       "      <th></th>\n",
       "      <th>reconstruction_error</th>\n",
       "    </tr>\n",
       "  </thead>\n",
       "  <tbody>\n",
       "    <tr>\n",
       "      <th>count</th>\n",
       "      <td>75000.0000</td>\n",
       "    </tr>\n",
       "    <tr>\n",
       "      <th>mean</th>\n",
       "      <td>0.0259</td>\n",
       "    </tr>\n",
       "    <tr>\n",
       "      <th>std</th>\n",
       "      <td>0.1632</td>\n",
       "    </tr>\n",
       "    <tr>\n",
       "      <th>min</th>\n",
       "      <td>0.0024</td>\n",
       "    </tr>\n",
       "    <tr>\n",
       "      <th>25%</th>\n",
       "      <td>0.0042</td>\n",
       "    </tr>\n",
       "    <tr>\n",
       "      <th>50%</th>\n",
       "      <td>0.0075</td>\n",
       "    </tr>\n",
       "    <tr>\n",
       "      <th>75%</th>\n",
       "      <td>0.0130</td>\n",
       "    </tr>\n",
       "    <tr>\n",
       "      <th>max</th>\n",
       "      <td>7.0535</td>\n",
       "    </tr>\n",
       "  </tbody>\n",
       "</table>\n",
       "</div>"
      ],
      "text/plain": [
       "       reconstruction_error\n",
       "count            75000.0000\n",
       "mean                 0.0259\n",
       "std                  0.1632\n",
       "min                  0.0024\n",
       "25%                  0.0042\n",
       "50%                  0.0075\n",
       "75%                  0.0130\n",
       "max                  7.0535"
      ]
     },
     "execution_count": 29,
     "metadata": {},
     "output_type": "execute_result"
    }
   ],
   "source": [
    "# find test error distribution\n",
    "\n",
    "test_reconstruction_errors = pd.DataFrame(reconstruction_errors, columns=['reconstruction_error'])\n",
    "\n",
    "test_reconstruction_errors.describe()\n"
   ]
  },
  {
   "cell_type": "code",
   "execution_count": null,
   "metadata": {},
   "outputs": [],
   "source": []
  }
 ],
 "metadata": {
  "kernelspec": {
   "display_name": "qa",
   "language": "python",
   "name": "python3"
  },
  "language_info": {
   "codemirror_mode": {
    "name": "ipython",
    "version": 3
   },
   "file_extension": ".py",
   "mimetype": "text/x-python",
   "name": "python",
   "nbconvert_exporter": "python",
   "pygments_lexer": "ipython3",
   "version": "3.8.16"
  }
 },
 "nbformat": 4,
 "nbformat_minor": 2
}
