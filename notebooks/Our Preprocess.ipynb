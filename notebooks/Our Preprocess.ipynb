{
 "cells": [
  {
   "cell_type": "code",
   "execution_count": 1,
   "metadata": {},
   "outputs": [],
   "source": [
    "import pandas as pd\n",
    "from sklearn.preprocessing import MinMaxScaler, StandardScaler"
   ]
  },
  {
   "cell_type": "code",
   "execution_count": 60,
   "metadata": {},
   "outputs": [],
   "source": [
    "# read data from csv, utf-8 encoding\n",
    "df = pd.read_csv('../data/data_v2.csv', encoding='utf-8')"
   ]
  },
  {
   "cell_type": "code",
   "execution_count": 61,
   "metadata": {},
   "outputs": [
    {
     "data": {
      "text/html": [
       "<div>\n",
       "<style scoped>\n",
       "    .dataframe tbody tr th:only-of-type {\n",
       "        vertical-align: middle;\n",
       "    }\n",
       "\n",
       "    .dataframe tbody tr th {\n",
       "        vertical-align: top;\n",
       "    }\n",
       "\n",
       "    .dataframe thead th {\n",
       "        text-align: right;\n",
       "    }\n",
       "</style>\n",
       "<table border=\"1\" class=\"dataframe\">\n",
       "  <thead>\n",
       "    <tr style=\"text-align: right;\">\n",
       "      <th></th>\n",
       "      <th>Unnamed: 0</th>\n",
       "      <th>amount</th>\n",
       "      <th>amount.1</th>\n",
       "      <th>createdAt</th>\n",
       "      <th>recipient_accountNumber</th>\n",
       "      <th>recipient_full_name</th>\n",
       "      <th>sender_full_name</th>\n",
       "      <th>reviewed</th>\n",
       "      <th>reported</th>\n",
       "    </tr>\n",
       "  </thead>\n",
       "  <tbody>\n",
       "    <tr>\n",
       "      <th>0</th>\n",
       "      <td>0</td>\n",
       "      <td>476.86</td>\n",
       "      <td>425.20</td>\n",
       "      <td>2023-09-14</td>\n",
       "      <td>3b681d83ccee97f33b3e</td>\n",
       "      <td>Stephen Small</td>\n",
       "      <td>Stephen Small</td>\n",
       "      <td>False</td>\n",
       "      <td>False</td>\n",
       "    </tr>\n",
       "    <tr>\n",
       "      <th>1</th>\n",
       "      <td>1</td>\n",
       "      <td>700.00</td>\n",
       "      <td>714.80</td>\n",
       "      <td>2023-09-14</td>\n",
       "      <td>22386743d148e118584d</td>\n",
       "      <td>Matthew Gilbert</td>\n",
       "      <td>Matthew Gilbert</td>\n",
       "      <td>False</td>\n",
       "      <td>False</td>\n",
       "    </tr>\n",
       "    <tr>\n",
       "      <th>2</th>\n",
       "      <td>2</td>\n",
       "      <td>30.00</td>\n",
       "      <td>31.14</td>\n",
       "      <td>2023-09-14</td>\n",
       "      <td>e2c2800b47b605016ee8</td>\n",
       "      <td>Peter Watkins</td>\n",
       "      <td>Peter Watkins</td>\n",
       "      <td>False</td>\n",
       "      <td>False</td>\n",
       "    </tr>\n",
       "    <tr>\n",
       "      <th>3</th>\n",
       "      <td>3</td>\n",
       "      <td>550.00</td>\n",
       "      <td>629.66</td>\n",
       "      <td>2023-09-14</td>\n",
       "      <td>4937ff8c2964230a207d</td>\n",
       "      <td>Cindy Larson</td>\n",
       "      <td>Patricia Brown</td>\n",
       "      <td>False</td>\n",
       "      <td>False</td>\n",
       "    </tr>\n",
       "    <tr>\n",
       "      <th>4</th>\n",
       "      <td>4</td>\n",
       "      <td>2285.25</td>\n",
       "      <td>2052.09</td>\n",
       "      <td>2023-09-14</td>\n",
       "      <td>2d3d71ee832ada40ce63</td>\n",
       "      <td>Patricia Ford</td>\n",
       "      <td>Patricia Ford</td>\n",
       "      <td>False</td>\n",
       "      <td>False</td>\n",
       "    </tr>\n",
       "    <tr>\n",
       "      <th>5</th>\n",
       "      <td>5</td>\n",
       "      <td>50.12</td>\n",
       "      <td>50.12</td>\n",
       "      <td>2023-09-14</td>\n",
       "      <td>3265e49310ccd3e53fc2</td>\n",
       "      <td>Laurie Lewis</td>\n",
       "      <td>Laurie Lewis</td>\n",
       "      <td>True</td>\n",
       "      <td>True</td>\n",
       "    </tr>\n",
       "    <tr>\n",
       "      <th>6</th>\n",
       "      <td>6</td>\n",
       "      <td>110000.00</td>\n",
       "      <td>111559.84</td>\n",
       "      <td>2023-09-14</td>\n",
       "      <td>138201efb13d33dc066e</td>\n",
       "      <td>Gregory Morris</td>\n",
       "      <td>Gregory Morris</td>\n",
       "      <td>True</td>\n",
       "      <td>False</td>\n",
       "    </tr>\n",
       "    <tr>\n",
       "      <th>7</th>\n",
       "      <td>7</td>\n",
       "      <td>260652.40</td>\n",
       "      <td>294826.94</td>\n",
       "      <td>2023-09-14</td>\n",
       "      <td>7178f6a33ebd18b999fb</td>\n",
       "      <td>Gene Alexander</td>\n",
       "      <td>Gene Alexander</td>\n",
       "      <td>True</td>\n",
       "      <td>False</td>\n",
       "    </tr>\n",
       "    <tr>\n",
       "      <th>8</th>\n",
       "      <td>8</td>\n",
       "      <td>400.00</td>\n",
       "      <td>323.72</td>\n",
       "      <td>2023-09-14</td>\n",
       "      <td>06b1d74a6fbdb1093751</td>\n",
       "      <td>Austin Estrada</td>\n",
       "      <td>Austin Estrada</td>\n",
       "      <td>False</td>\n",
       "      <td>False</td>\n",
       "    </tr>\n",
       "    <tr>\n",
       "      <th>9</th>\n",
       "      <td>9</td>\n",
       "      <td>175.00</td>\n",
       "      <td>171.99</td>\n",
       "      <td>2023-09-14</td>\n",
       "      <td>741fb6f26edd5f1f0692</td>\n",
       "      <td>Tony Yu</td>\n",
       "      <td>Tony Yu</td>\n",
       "      <td>False</td>\n",
       "      <td>False</td>\n",
       "    </tr>\n",
       "  </tbody>\n",
       "</table>\n",
       "</div>"
      ],
      "text/plain": [
       "   Unnamed: 0     amount   amount.1   createdAt recipient_accountNumber  \\\n",
       "0           0     476.86     425.20  2023-09-14    3b681d83ccee97f33b3e   \n",
       "1           1     700.00     714.80  2023-09-14    22386743d148e118584d   \n",
       "2           2      30.00      31.14  2023-09-14    e2c2800b47b605016ee8   \n",
       "3           3     550.00     629.66  2023-09-14    4937ff8c2964230a207d   \n",
       "4           4    2285.25    2052.09  2023-09-14    2d3d71ee832ada40ce63   \n",
       "5           5      50.12      50.12  2023-09-14    3265e49310ccd3e53fc2   \n",
       "6           6  110000.00  111559.84  2023-09-14    138201efb13d33dc066e   \n",
       "7           7  260652.40  294826.94  2023-09-14    7178f6a33ebd18b999fb   \n",
       "8           8     400.00     323.72  2023-09-14    06b1d74a6fbdb1093751   \n",
       "9           9     175.00     171.99  2023-09-14    741fb6f26edd5f1f0692   \n",
       "\n",
       "  recipient_full_name sender_full_name  reviewed  reported  \n",
       "0       Stephen Small    Stephen Small     False     False  \n",
       "1     Matthew Gilbert  Matthew Gilbert     False     False  \n",
       "2       Peter Watkins    Peter Watkins     False     False  \n",
       "3        Cindy Larson   Patricia Brown     False     False  \n",
       "4       Patricia Ford    Patricia Ford     False     False  \n",
       "5        Laurie Lewis     Laurie Lewis      True      True  \n",
       "6      Gregory Morris   Gregory Morris      True     False  \n",
       "7      Gene Alexander   Gene Alexander      True     False  \n",
       "8      Austin Estrada   Austin Estrada     False     False  \n",
       "9             Tony Yu          Tony Yu     False     False  "
      ]
     },
     "execution_count": 61,
     "metadata": {},
     "output_type": "execute_result"
    }
   ],
   "source": [
    "df.head(10)"
   ]
  },
  {
   "cell_type": "code",
   "execution_count": 63,
   "metadata": {},
   "outputs": [],
   "source": [
    "data = df[['amount.1', 'createdAt', 'recipient_accountNumber', 'recipient_full_name', 'sender_full_name', 'reported']].copy()"
   ]
  },
  {
   "cell_type": "code",
   "execution_count": 64,
   "metadata": {},
   "outputs": [
    {
     "data": {
      "text/plain": [
       "False    74047\n",
       "True      1396\n",
       "Name: reported, dtype: int64"
      ]
     },
     "execution_count": 64,
     "metadata": {},
     "output_type": "execute_result"
    }
   ],
   "source": [
    "df['reported'].value_counts()"
   ]
  },
  {
   "cell_type": "code",
   "execution_count": 65,
   "metadata": {},
   "outputs": [
    {
     "data": {
      "text/plain": [
       "(75443, 9)"
      ]
     },
     "execution_count": 65,
     "metadata": {},
     "output_type": "execute_result"
    }
   ],
   "source": [
    "df.shape"
   ]
  },
  {
   "cell_type": "code",
   "execution_count": 66,
   "metadata": {},
   "outputs": [
    {
     "data": {
      "text/plain": [
       "amount.1                   0\n",
       "createdAt                  0\n",
       "recipient_accountNumber    0\n",
       "recipient_full_name        0\n",
       "sender_full_name           0\n",
       "reported                   0\n",
       "dtype: int64"
      ]
     },
     "execution_count": 66,
     "metadata": {},
     "output_type": "execute_result"
    }
   ],
   "source": [
    "data.isna().sum()"
   ]
  },
  {
   "cell_type": "code",
   "execution_count": null,
   "metadata": {},
   "outputs": [],
   "source": []
  },
  {
   "cell_type": "code",
   "execution_count": 67,
   "metadata": {},
   "outputs": [
    {
     "ename": "KeyError",
     "evalue": "\"['tx_amount'] not in index\"",
     "output_type": "error",
     "traceback": [
      "\u001b[0;31m---------------------------------------------------------------------------\u001b[0m",
      "\u001b[0;31mKeyError\u001b[0m                                  Traceback (most recent call last)",
      "\u001b[1;32m/Users/elshangadimov/Desktop/MSC Thesis/MSC/notebooks/Our Preprocess.ipynb Cell 9\u001b[0m line \u001b[0;36m1\n\u001b[0;32m----> <a href='vscode-notebook-cell:/Users/elshangadimov/Desktop/MSC%20Thesis/MSC/notebooks/Our%20Preprocess.ipynb#X45sZmlsZQ%3D%3D?line=0'>1</a>\u001b[0m df[[\u001b[39m'\u001b[39;49m\u001b[39mtx_amount\u001b[39;49m\u001b[39m'\u001b[39;49m, \u001b[39m'\u001b[39;49m\u001b[39mcreatedAt\u001b[39;49m\u001b[39m'\u001b[39;49m, \u001b[39m'\u001b[39;49m\u001b[39mrecipient_accountNumber\u001b[39;49m\u001b[39m'\u001b[39;49m, \u001b[39m'\u001b[39;49m\u001b[39mrecipient_full_name\u001b[39;49m\u001b[39m'\u001b[39;49m, \u001b[39m'\u001b[39;49m\u001b[39msender_full_name\u001b[39;49m\u001b[39m'\u001b[39;49m, \u001b[39m'\u001b[39;49m\u001b[39mreported\u001b[39;49m\u001b[39m'\u001b[39;49m]]\u001b[39m.\u001b[39mhead(\u001b[39m15\u001b[39m)\n",
      "File \u001b[0;32m/opt/anaconda3/envs/qa/lib/python3.8/site-packages/pandas/core/frame.py:3813\u001b[0m, in \u001b[0;36mDataFrame.__getitem__\u001b[0;34m(self, key)\u001b[0m\n\u001b[1;32m   3811\u001b[0m     \u001b[39mif\u001b[39;00m is_iterator(key):\n\u001b[1;32m   3812\u001b[0m         key \u001b[39m=\u001b[39m \u001b[39mlist\u001b[39m(key)\n\u001b[0;32m-> 3813\u001b[0m     indexer \u001b[39m=\u001b[39m \u001b[39mself\u001b[39;49m\u001b[39m.\u001b[39;49mcolumns\u001b[39m.\u001b[39;49m_get_indexer_strict(key, \u001b[39m\"\u001b[39;49m\u001b[39mcolumns\u001b[39;49m\u001b[39m\"\u001b[39;49m)[\u001b[39m1\u001b[39m]\n\u001b[1;32m   3815\u001b[0m \u001b[39m# take() does not accept boolean indexers\u001b[39;00m\n\u001b[1;32m   3816\u001b[0m \u001b[39mif\u001b[39;00m \u001b[39mgetattr\u001b[39m(indexer, \u001b[39m\"\u001b[39m\u001b[39mdtype\u001b[39m\u001b[39m\"\u001b[39m, \u001b[39mNone\u001b[39;00m) \u001b[39m==\u001b[39m \u001b[39mbool\u001b[39m:\n",
      "File \u001b[0;32m/opt/anaconda3/envs/qa/lib/python3.8/site-packages/pandas/core/indexes/base.py:6070\u001b[0m, in \u001b[0;36mIndex._get_indexer_strict\u001b[0;34m(self, key, axis_name)\u001b[0m\n\u001b[1;32m   6067\u001b[0m \u001b[39melse\u001b[39;00m:\n\u001b[1;32m   6068\u001b[0m     keyarr, indexer, new_indexer \u001b[39m=\u001b[39m \u001b[39mself\u001b[39m\u001b[39m.\u001b[39m_reindex_non_unique(keyarr)\n\u001b[0;32m-> 6070\u001b[0m \u001b[39mself\u001b[39;49m\u001b[39m.\u001b[39;49m_raise_if_missing(keyarr, indexer, axis_name)\n\u001b[1;32m   6072\u001b[0m keyarr \u001b[39m=\u001b[39m \u001b[39mself\u001b[39m\u001b[39m.\u001b[39mtake(indexer)\n\u001b[1;32m   6073\u001b[0m \u001b[39mif\u001b[39;00m \u001b[39misinstance\u001b[39m(key, Index):\n\u001b[1;32m   6074\u001b[0m     \u001b[39m# GH 42790 - Preserve name from an Index\u001b[39;00m\n",
      "File \u001b[0;32m/opt/anaconda3/envs/qa/lib/python3.8/site-packages/pandas/core/indexes/base.py:6133\u001b[0m, in \u001b[0;36mIndex._raise_if_missing\u001b[0;34m(self, key, indexer, axis_name)\u001b[0m\n\u001b[1;32m   6130\u001b[0m     \u001b[39mraise\u001b[39;00m \u001b[39mKeyError\u001b[39;00m(\u001b[39mf\u001b[39m\u001b[39m\"\u001b[39m\u001b[39mNone of [\u001b[39m\u001b[39m{\u001b[39;00mkey\u001b[39m}\u001b[39;00m\u001b[39m] are in the [\u001b[39m\u001b[39m{\u001b[39;00maxis_name\u001b[39m}\u001b[39;00m\u001b[39m]\u001b[39m\u001b[39m\"\u001b[39m)\n\u001b[1;32m   6132\u001b[0m not_found \u001b[39m=\u001b[39m \u001b[39mlist\u001b[39m(ensure_index(key)[missing_mask\u001b[39m.\u001b[39mnonzero()[\u001b[39m0\u001b[39m]]\u001b[39m.\u001b[39munique())\n\u001b[0;32m-> 6133\u001b[0m \u001b[39mraise\u001b[39;00m \u001b[39mKeyError\u001b[39;00m(\u001b[39mf\u001b[39m\u001b[39m\"\u001b[39m\u001b[39m{\u001b[39;00mnot_found\u001b[39m}\u001b[39;00m\u001b[39m not in index\u001b[39m\u001b[39m\"\u001b[39m)\n",
      "\u001b[0;31mKeyError\u001b[0m: \"['tx_amount'] not in index\""
     ]
    }
   ],
   "source": [
    "df[['tx_amount', 'createdAt', 'recipient_accountNumber', 'recipient_full_name', 'sender_full_name', 'reported']].head(15)"
   ]
  },
  {
   "cell_type": "code",
   "execution_count": 38,
   "metadata": {},
   "outputs": [
    {
     "data": {
      "text/plain": [
       "0         2023-06-15\n",
       "1         2023-06-15\n",
       "2         2023-06-15\n",
       "3         2023-06-15\n",
       "4         2023-06-15\n",
       "             ...    \n",
       "144491    2023-11-25\n",
       "144492    2023-11-25\n",
       "144493    2023-11-25\n",
       "144494    2023-11-25\n",
       "144495    2023-11-25\n",
       "Name: createdAt, Length: 144496, dtype: object"
      ]
     },
     "execution_count": 38,
     "metadata": {},
     "output_type": "execute_result"
    }
   ],
   "source": [
    "df['createdAt']"
   ]
  },
  {
   "cell_type": "code",
   "execution_count": null,
   "metadata": {},
   "outputs": [],
   "source": []
  },
  {
   "cell_type": "code",
   "execution_count": 68,
   "metadata": {},
   "outputs": [],
   "source": [
    "# df.rename(columns={'recipient_accountNumber\t': 'recipient_accNumber', 'recipient_full_name': 'recipient_name', \n",
    "#                    'sender_full_name': 'sender', 'tx_amount': 'amount'}, inplace=True)\n",
    "df.rename(columns={'tx_amount': 'amount.1'}, inplace=True)"
   ]
  },
  {
   "cell_type": "code",
   "execution_count": 40,
   "metadata": {},
   "outputs": [],
   "source": [
    "# df.drop(['Unnamed: 0', 'amount.1'], axis=1, inplace=True)\n",
    "# df.rename(columns={'recipient.fake_accountNumber': 'recipient_accNumber', 'recipient.fake_name': 'recipient_name', \n",
    "#                    'sender.fake_name': 'sender', 'fake_amount': 'amount'}, inplace=True)"
   ]
  },
  {
   "cell_type": "code",
   "execution_count": 69,
   "metadata": {},
   "outputs": [
    {
     "name": "stdout",
     "output_type": "stream",
     "text": [
      "False    74047\n",
      "True      1396\n",
      "Name: reported, dtype: int64\n",
      "False    0.981496\n",
      "True     0.018504\n",
      "Name: reported, dtype: float64\n"
     ]
    }
   ],
   "source": [
    "print(df['reported'].value_counts())\n",
    "print(df['reported'].value_counts(normalize=True))"
   ]
  },
  {
   "cell_type": "code",
   "execution_count": 70,
   "metadata": {},
   "outputs": [
    {
     "data": {
      "text/html": [
       "<div>\n",
       "<style scoped>\n",
       "    .dataframe tbody tr th:only-of-type {\n",
       "        vertical-align: middle;\n",
       "    }\n",
       "\n",
       "    .dataframe tbody tr th {\n",
       "        vertical-align: top;\n",
       "    }\n",
       "\n",
       "    .dataframe thead th {\n",
       "        text-align: right;\n",
       "    }\n",
       "</style>\n",
       "<table border=\"1\" class=\"dataframe\">\n",
       "  <thead>\n",
       "    <tr style=\"text-align: right;\">\n",
       "      <th></th>\n",
       "      <th>Unnamed: 0</th>\n",
       "      <th>amount</th>\n",
       "      <th>amount.1</th>\n",
       "      <th>createdAt</th>\n",
       "      <th>recipient_accountNumber</th>\n",
       "      <th>recipient_full_name</th>\n",
       "      <th>sender_full_name</th>\n",
       "      <th>reviewed</th>\n",
       "      <th>reported</th>\n",
       "    </tr>\n",
       "  </thead>\n",
       "  <tbody>\n",
       "    <tr>\n",
       "      <th>0</th>\n",
       "      <td>0</td>\n",
       "      <td>476.86</td>\n",
       "      <td>425.20</td>\n",
       "      <td>2023-09-14</td>\n",
       "      <td>3b681d83ccee97f33b3e</td>\n",
       "      <td>Stephen Small</td>\n",
       "      <td>Stephen Small</td>\n",
       "      <td>False</td>\n",
       "      <td>False</td>\n",
       "    </tr>\n",
       "    <tr>\n",
       "      <th>1</th>\n",
       "      <td>1</td>\n",
       "      <td>700.00</td>\n",
       "      <td>714.80</td>\n",
       "      <td>2023-09-14</td>\n",
       "      <td>22386743d148e118584d</td>\n",
       "      <td>Matthew Gilbert</td>\n",
       "      <td>Matthew Gilbert</td>\n",
       "      <td>False</td>\n",
       "      <td>False</td>\n",
       "    </tr>\n",
       "    <tr>\n",
       "      <th>2</th>\n",
       "      <td>2</td>\n",
       "      <td>30.00</td>\n",
       "      <td>31.14</td>\n",
       "      <td>2023-09-14</td>\n",
       "      <td>e2c2800b47b605016ee8</td>\n",
       "      <td>Peter Watkins</td>\n",
       "      <td>Peter Watkins</td>\n",
       "      <td>False</td>\n",
       "      <td>False</td>\n",
       "    </tr>\n",
       "    <tr>\n",
       "      <th>3</th>\n",
       "      <td>3</td>\n",
       "      <td>550.00</td>\n",
       "      <td>629.66</td>\n",
       "      <td>2023-09-14</td>\n",
       "      <td>4937ff8c2964230a207d</td>\n",
       "      <td>Cindy Larson</td>\n",
       "      <td>Patricia Brown</td>\n",
       "      <td>False</td>\n",
       "      <td>False</td>\n",
       "    </tr>\n",
       "    <tr>\n",
       "      <th>4</th>\n",
       "      <td>4</td>\n",
       "      <td>2285.25</td>\n",
       "      <td>2052.09</td>\n",
       "      <td>2023-09-14</td>\n",
       "      <td>2d3d71ee832ada40ce63</td>\n",
       "      <td>Patricia Ford</td>\n",
       "      <td>Patricia Ford</td>\n",
       "      <td>False</td>\n",
       "      <td>False</td>\n",
       "    </tr>\n",
       "  </tbody>\n",
       "</table>\n",
       "</div>"
      ],
      "text/plain": [
       "   Unnamed: 0   amount  amount.1   createdAt recipient_accountNumber  \\\n",
       "0           0   476.86    425.20  2023-09-14    3b681d83ccee97f33b3e   \n",
       "1           1   700.00    714.80  2023-09-14    22386743d148e118584d   \n",
       "2           2    30.00     31.14  2023-09-14    e2c2800b47b605016ee8   \n",
       "3           3   550.00    629.66  2023-09-14    4937ff8c2964230a207d   \n",
       "4           4  2285.25   2052.09  2023-09-14    2d3d71ee832ada40ce63   \n",
       "\n",
       "  recipient_full_name sender_full_name  reviewed  reported  \n",
       "0       Stephen Small    Stephen Small     False     False  \n",
       "1     Matthew Gilbert  Matthew Gilbert     False     False  \n",
       "2       Peter Watkins    Peter Watkins     False     False  \n",
       "3        Cindy Larson   Patricia Brown     False     False  \n",
       "4       Patricia Ford    Patricia Ford     False     False  "
      ]
     },
     "execution_count": 70,
     "metadata": {},
     "output_type": "execute_result"
    }
   ],
   "source": [
    "df.head()"
   ]
  },
  {
   "cell_type": "code",
   "execution_count": null,
   "metadata": {},
   "outputs": [],
   "source": []
  },
  {
   "cell_type": "markdown",
   "metadata": {},
   "source": [
    "## Feature Engineering"
   ]
  },
  {
   "cell_type": "code",
   "execution_count": 71,
   "metadata": {},
   "outputs": [],
   "source": [
    "df['day'] = pd.to_datetime(df['createdAt']).dt.day\n",
    "df['month'] = pd.to_datetime(df['createdAt']).dt.month\n",
    "df['year'] = pd.to_datetime(df['createdAt']).dt.year\n",
    "df['weekofyear'] = pd.to_datetime(df['createdAt']).dt.isocalendar().week\n",
    "df['is_weekend'] = pd.to_datetime(df['createdAt']).dt.dayofweek.apply(lambda x: 1 if x > 4 else 0)\n",
    "df['day_of_week'] = pd.to_datetime(df['createdAt']).dt.dayofweek\n",
    "df['quarter'] = pd.to_datetime(df['createdAt']).dt.quarter"
   ]
  },
  {
   "cell_type": "code",
   "execution_count": 72,
   "metadata": {},
   "outputs": [],
   "source": [
    "df['daily_tx_count_of_recipient'] = df.groupby(['recipient_full_name', 'day', 'month'])['amount'].transform('count')\n",
    "df['daily_tx_count_of_sender'] = df.groupby(['sender_full_name', 'day', 'month'])['amount'].transform('count')\n",
    "df['daily_tx_count_of_recipient_accNumber'] = df.groupby(['recipient_accountNumber', 'day', 'month'])['amount'].transform('count')\n",
    "\n",
    "df['weekly_tx_count_of_recipient'] = df.groupby(['recipient_full_name', 'weekofyear'])['amount'].transform('count')\n",
    "df['weekly_tx_count_of_sender'] = df.groupby(['sender_full_name', 'weekofyear'])['amount'].transform('count')\n",
    "df['weekly_tx_count_of_recipient_accNumber'] = df.groupby(['recipient_accountNumber', 'weekofyear'])['amount'].transform('count')\n",
    "\n",
    "df['monthly_tx_count_of_recipient'] = df.groupby(['recipient_full_name', 'month'])['amount'].transform('count')\n",
    "df['monthly_tx_count_of_sender'] = df.groupby(['sender_full_name', 'month'])['amount'].transform('count')\n",
    "df['monthly_tx_count_of_recipient_accNumber'] = df.groupby(['recipient_accountNumber', 'month'])['amount'].transform('count')"
   ]
  },
  {
   "cell_type": "code",
   "execution_count": 73,
   "metadata": {},
   "outputs": [],
   "source": [
    "import numpy as np\n",
    "\n",
    "df['log_amount'] = df['amount'].apply(lambda x: np.log(x))\n",
    "df['scaled_amount'] = MinMaxScaler().fit_transform(df['amount'].values.reshape(-1, 1))"
   ]
  },
  {
   "cell_type": "code",
   "execution_count": 74,
   "metadata": {},
   "outputs": [],
   "source": [
    "# recipient accounts per recipient name\n",
    "df['recipient_acc_per_recipient_name'] = df.groupby(['recipient_full_name'])['recipient_accountNumber'].transform('nunique')\n",
    "# senders per recipient name\n",
    "df['sender_per_recipient_name'] = df.groupby(['recipient_full_name'])['sender_full_name'].transform('nunique')"
   ]
  },
  {
   "cell_type": "code",
   "execution_count": 75,
   "metadata": {},
   "outputs": [],
   "source": [
    "# weekly tx amount of recipient\n",
    "df['weekly_tx_amount_of_recipient'] = df.groupby(['recipient_full_name', 'weekofyear'])['amount'].transform('sum')\n",
    "# weekly tx amount of sender\n",
    "df['weekly_tx_amount_of_sender'] = df.groupby(['sender_full_name', 'weekofyear'])['amount'].transform('sum')\n",
    "# weekly tx amount of recipient account number\n",
    "df['weekly_tx_amount_of_recipient_accNumber'] = df.groupby(['recipient_accountNumber', 'weekofyear'])['amount'].transform('sum')\n",
    "\n",
    "\n",
    "# monthly tx amount of recipient\n",
    "df['monthly_tx_amount_of_recipient'] = df.groupby(['recipient_full_name', 'month'])['amount'].transform('sum')\n",
    "# monthly tx amount of sender\n",
    "df['monthly_tx_amount_of_sender'] = df.groupby(['sender_full_name', 'month'])['amount'].transform('sum')\n",
    "# monthly tx amount of recipient account number\n",
    "df['monthly_tx_amount_of_recipient_accNumber'] = df.groupby(['recipient_accountNumber', 'month'])['amount'].transform('sum')\n",
    "\n",
    "# daily tx amount of recipient\n",
    "df['daily_tx_amount_of_recipient'] = df.groupby(['recipient_full_name', 'day'])['amount'].transform('sum')\n",
    "# daily tx amount of sender\n",
    "df['daily_tx_amount_of_sender'] = df.groupby(['sender_full_name', 'day'])['amount'].transform('sum')\n",
    "# daily tx amount of recipient account number\n",
    "df['daily_tx_amount_of_recipient_accNumber'] = df.groupby(['recipient_accountNumber', 'day'])['amount'].transform('sum')"
   ]
  },
  {
   "cell_type": "code",
   "execution_count": 48,
   "metadata": {},
   "outputs": [],
   "source": [
    "# weekly average tx amount of recipient\n",
    "df['weekly_average_tx_amount_of_recipient'] = df.groupby(['recipient_full_name', 'weekofyear'])['amount'].transform('mean')\n",
    "# weekly average tx amount of sender\n",
    "df['weekly_average_tx_amount_of_sender'] = df.groupby(['sender_full_name', 'weekofyear'])['amount'].transform('mean')\n",
    "# weekly average tx amount of recipient account number\n",
    "df['weekly_average_tx_amount_of_recipient_accNumber'] = df.groupby(['recipient_accountNumber', 'weekofyear'])['amount'].transform('mean')\n",
    "\n",
    "# monthly average tx amount of recipient\n",
    "df['monthly_average_tx_amount_of_recipient'] = df.groupby(['recipient_full_name', 'month'])['amount'].transform('mean')\n",
    "# monthly average tx amount of sender\n",
    "df['monthly_average_tx_amount_of_sender'] = df.groupby(['sender_full_name', 'month'])['amount'].transform('mean')\n",
    "# monthly average tx amount of recipient account number\n",
    "df['monthly_average_tx_amount_of_recipient_accNumber'] = df.groupby(['recipient_accountNumber', 'month'])['amount'].transform('mean')\n",
    "\n",
    "# daily average tx amount of recipient\n",
    "df['daily_average_tx_amount_of_recipient'] = df.groupby(['recipient_full_name', 'day'])['amount'].transform('mean')\n",
    "# daily average tx amount of sender\n",
    "df['daily_average_tx_amount_of_sender'] = df.groupby(['sender_full_name', 'day'])['amount'].transform('mean')\n",
    "# daily average tx amount of recipient account number\n",
    "df['daily_average_tx_amount_of_recipient_accNumber'] = df.groupby(['recipient_accountNumber', 'day'])['amount'].transform('mean')"
   ]
  },
  {
   "cell_type": "code",
   "execution_count": 76,
   "metadata": {},
   "outputs": [],
   "source": [
    "# weekly average tx count of recipient\n",
    "df['weekly_average_tx_count_of_recipient'] = df.groupby(['recipient_full_name', 'weekofyear'])['amount'].transform('count')\n",
    "# weekly average tx count of sender\n",
    "df['weekly_average_tx_count_of_sender'] = df.groupby(['sender_full_name', 'weekofyear'])['amount'].transform('count')\n",
    "# weekly average tx count of recipient account number\n",
    "df['weekly_average_tx_count_of_recipient_accNumber'] = df.groupby(['recipient_accountNumber', 'weekofyear'])['amount'].transform('count')\n",
    "\n",
    "# monthly average tx count of recipient\n",
    "df['monthly_average_tx_count_of_recipient'] = df.groupby(['recipient_full_name', 'month'])['amount'].transform('count')\n",
    "# monthly average tx count of sender\n",
    "df['monthly_average_tx_count_of_sender'] = df.groupby(['sender_full_name', 'month'])['amount'].transform('count')\n",
    "# monthly average tx count of recipient account number\n",
    "df['monthly_average_tx_count_of_recipient_accNumber'] = df.groupby(['recipient_accountNumber', 'month'])['amount'].transform('count')\n",
    "\n",
    "# daily average tx count of recipient\n",
    "df['daily_average_tx_count_of_recipient'] = df.groupby(['recipient_full_name', 'day'])['amount'].transform('count')\n",
    "# daily average tx count of sender\n",
    "df['daily_average_tx_count_of_sender'] = df.groupby(['sender_full_name', 'day'])['amount'].transform('count')\n",
    "# daily average tx count of recipient account number\n",
    "df['daily_average_tx_count_of_recipient_accNumber'] = df.groupby(['recipient_accountNumber', 'day'])['amount'].transform('count')"
   ]
  },
  {
   "cell_type": "code",
   "execution_count": null,
   "metadata": {},
   "outputs": [],
   "source": []
  },
  {
   "cell_type": "code",
   "execution_count": 50,
   "metadata": {},
   "outputs": [
    {
     "name": "stdout",
     "output_type": "stream",
     "text": [
      "Index(['amount', 'createdAt', 'recipient_accountNumber', 'recipient_full_name',\n",
      "       'sender_full_name', 'reviewed', 'reported', 'day', 'month', 'year',\n",
      "       'weekofyear', 'is_weekend', 'day_of_week', 'quarter',\n",
      "       'daily_tx_count_of_recipient', 'daily_tx_count_of_sender',\n",
      "       'daily_tx_count_of_recipient_accNumber', 'weekly_tx_count_of_recipient',\n",
      "       'weekly_tx_count_of_sender', 'weekly_tx_count_of_recipient_accNumber',\n",
      "       'monthly_tx_count_of_recipient', 'monthly_tx_count_of_sender',\n",
      "       'monthly_tx_count_of_recipient_accNumber', 'log_amount',\n",
      "       'scaled_amount', 'recipient_acc_per_recipient_name',\n",
      "       'sender_per_recipient_name', 'weekly_tx_amount_of_recipient',\n",
      "       'weekly_tx_amount_of_sender', 'weekly_tx_amount_of_recipient_accNumber',\n",
      "       'monthly_tx_amount_of_recipient', 'monthly_tx_amount_of_sender',\n",
      "       'monthly_tx_amount_of_recipient_accNumber',\n",
      "       'daily_tx_amount_of_recipient', 'daily_tx_amount_of_sender',\n",
      "       'daily_tx_amount_of_recipient_accNumber',\n",
      "       'weekly_average_tx_amount_of_recipient',\n",
      "       'weekly_average_tx_amount_of_sender',\n",
      "       'weekly_average_tx_amount_of_recipient_accNumber',\n",
      "       'monthly_average_tx_amount_of_recipient',\n",
      "       'monthly_average_tx_amount_of_sender',\n",
      "       'monthly_average_tx_amount_of_recipient_accNumber',\n",
      "       'daily_average_tx_amount_of_recipient',\n",
      "       'daily_average_tx_amount_of_sender',\n",
      "       'daily_average_tx_amount_of_recipient_accNumber',\n",
      "       'weekly_average_tx_count_of_recipient',\n",
      "       'weekly_average_tx_count_of_sender',\n",
      "       'weekly_average_tx_count_of_recipient_accNumber',\n",
      "       'monthly_average_tx_count_of_recipient',\n",
      "       'monthly_average_tx_count_of_sender',\n",
      "       'monthly_average_tx_count_of_recipient_accNumber',\n",
      "       'daily_average_tx_count_of_recipient',\n",
      "       'daily_average_tx_count_of_sender',\n",
      "       'daily_average_tx_count_of_recipient_accNumber'],\n",
      "      dtype='object')\n"
     ]
    }
   ],
   "source": [
    "print(df.columns)"
   ]
  },
  {
   "cell_type": "code",
   "execution_count": 29,
   "metadata": {},
   "outputs": [],
   "source": [
    "df.to_csv('../data/custom_preprocess_v21.csv', encoding='utf-8', index=False)"
   ]
  },
  {
   "cell_type": "code",
   "execution_count": 14,
   "metadata": {},
   "outputs": [],
   "source": [
    "# scale amount related features\n",
    "df['scaled_daily_tx_amount_of_recipient'] = MinMaxScaler().fit_transform(df['daily_tx_amount_of_recipient'].values.reshape(-1, 1))\n",
    "df['scaled_daily_tx_amount_of_sender'] = MinMaxScaler().fit_transform(df['daily_tx_amount_of_sender'].values.reshape(-1, 1))\n",
    "df['scaled_daily_tx_amount_of_recipient_accNumber'] = MinMaxScaler().fit_transform(df['daily_tx_amount_of_recipient_accNumber'].values.reshape(-1, 1))\n",
    "\n",
    "df['scaled_weekly_tx_amount_of_recipient'] = MinMaxScaler().fit_transform(df['weekly_tx_amount_of_recipient'].values.reshape(-1, 1))\n",
    "df['scaled_weekly_tx_amount_of_sender'] = MinMaxScaler().fit_transform(df['weekly_tx_amount_of_sender'].values.reshape(-1, 1))\n",
    "df['scaled_weekly_tx_amount_of_recipient_accNumber'] = MinMaxScaler().fit_transform(df['weekly_tx_amount_of_recipient_accNumber'].values.reshape(-1, 1))\n",
    "\n",
    "df['scaled_monthly_tx_amount_of_recipient'] = MinMaxScaler().fit_transform(df['monthly_tx_amount_of_recipient'].values.reshape(-1, 1))\n",
    "df['scaled_monthly_tx_amount_of_sender'] = MinMaxScaler().fit_transform(df['monthly_tx_amount_of_sender'].values.reshape(-1, 1))\n",
    "df['scaled_monthly_tx_amount_of_recipient_accNumber'] = MinMaxScaler().fit_transform(df['monthly_tx_amount_of_recipient_accNumber'].values.reshape(-1, 1))\n",
    "\n",
    "df['scaled_weekly_average_tx_amount_of_recipient'] = MinMaxScaler().fit_transform(df['weekly_average_tx_amount_of_recipient'].values.reshape(-1, 1))\n",
    "df['scaled_weekly_average_tx_amount_of_sender'] = MinMaxScaler().fit_transform(df['weekly_average_tx_amount_of_sender'].values.reshape(-1, 1))\n",
    "df['scaled_weekly_average_tx_amount_of_recipient_accNumber'] = MinMaxScaler().fit_transform(df['weekly_average_tx_amount_of_recipient_accNumber'].values.reshape(-1, 1))\n"
   ]
  },
  {
   "cell_type": "code",
   "execution_count": 15,
   "metadata": {},
   "outputs": [],
   "source": [
    "df.to_csv('../data/custom_preprocess_v2.csv', encoding='utf-8', index=False)"
   ]
  },
  {
   "cell_type": "markdown",
   "metadata": {},
   "source": [
    "## Graphs"
   ]
  },
  {
   "cell_type": "code",
   "execution_count": null,
   "metadata": {},
   "outputs": [],
   "source": []
  },
  {
   "cell_type": "code",
   "execution_count": 22,
   "metadata": {},
   "outputs": [
    {
     "data": {
      "text/plain": [
       "<Axes: xlabel='reported', ylabel='count'>"
      ]
     },
     "execution_count": 22,
     "metadata": {},
     "output_type": "execute_result"
    },
    {
     "data": {
      "image/png": "[encoded data removed]",
      "text/plain": [
       "<Figure size 640x480 with 1 Axes>"
      ]
     },
     "metadata": {},
     "output_type": "display_data"
    }
   ],
   "source": [
    "# bar plot distribution of reported transactions \n",
    "import seaborn as sns\n",
    "\n",
    "sns.countplot(x='reported', data=df)"
   ]
  },
  {
   "cell_type": "code",
   "execution_count": 27,
   "metadata": {},
   "outputs": [
    {
     "data": {
      "text/plain": [
       "<Axes: xlabel='weekofyear', ylabel='count'>"
      ]
     },
     "execution_count": 27,
     "metadata": {},
     "output_type": "execute_result"
    },
    {
     "data": {
      "image/png": "[encoded data removed]",
      "text/plain": [
       "<Figure size 640x480 with 1 Axes>"
      ]
     },
     "metadata": {},
     "output_type": "display_data"
    }
   ],
   "source": [
    "# bar plot distribution of reported transactions over week of year, stacked\n",
    "import seaborn as sns\n",
    "\n",
    "sns.countplot(x='weekofyear', hue='reported', data=df)"
   ]
  },
  {
   "cell_type": "code",
   "execution_count": 31,
   "metadata": {},
   "outputs": [
    {
     "data": {
      "text/plain": [
       "<Axes: xlabel='weekofyear'>"
      ]
     },
     "execution_count": 31,
     "metadata": {},
     "output_type": "execute_result"
    },
    {
     "data": {
      "image/png": "[encoded data removed]",
      "text/plain": [
       "<Figure size 1200x600 with 1 Axes>"
      ]
     },
     "metadata": {},
     "output_type": "display_data"
    }
   ],
   "source": [
    "# count line plot distribution of reported transactions over week of year\n",
    "import matplotlib.pyplot as plt\n",
    "\n",
    "plt.figure(figsize=(12, 6))\n",
    "df['reported'].groupby(df['weekofyear']).count().plot(kind='line')"
   ]
  },
  {
   "cell_type": "code",
   "execution_count": null,
   "metadata": {},
   "outputs": [],
   "source": []
  }
 ],
 "metadata": {
  "kernelspec": {
   "display_name": "Python 3 (ipykernel)",
   "language": "python",
   "name": "python3"
  },
  "language_info": {
   "codemirror_mode": {
    "name": "ipython",
    "version": 3
   },
   "file_extension": ".py",
   "mimetype": "text/x-python",
   "name": "python",
   "nbconvert_exporter": "python",
   "pygments_lexer": "ipython3",
   "version": "3.8.16"
  }
 },
 "nbformat": 4,
 "nbformat_minor": 2
}
